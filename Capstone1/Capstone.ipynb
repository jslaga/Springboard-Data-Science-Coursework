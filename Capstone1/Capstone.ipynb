{
 "cells": [
  {
   "cell_type": "markdown",
   "metadata": {},
   "source": [
    "# Bike Sharing "
   ]
  },
  {
   "cell_type": "code",
   "execution_count": 109,
   "metadata": {},
   "outputs": [],
   "source": [
    "import pandas as pd\n",
    "import numpy as np\n",
    "import matplotlib.pyplot as plt\n",
    "import seaborn as sb\n",
    "import statistics\n",
    "\n",
    "from datetime import datetime\n",
    "from collections import Counter\n",
    "from scipy import stats as sp\n",
    "\n",
    "%matplotlib inline"
   ]
  },
  {
   "cell_type": "markdown",
   "metadata": {},
   "source": [
    "### Import data"
   ]
  },
  {
   "cell_type": "code",
   "execution_count": 110,
   "metadata": {},
   "outputs": [],
   "source": [
    "station_df = pd.read_csv('data/station.csv')\n",
    "trip_df = pd.read_csv('data/trip.csv')\n",
    "weather_df = pd.read_csv('data/weather.csv')"
   ]
  },
  {
   "cell_type": "markdown",
   "metadata": {},
   "source": [
    "### Process Data\n"
   ]
  },
  {
   "cell_type": "code",
   "execution_count": 111,
   "metadata": {},
   "outputs": [
    {
     "data": {
      "text/plain": [
       "count    669959.000000\n",
       "mean         18.465831\n",
       "std         370.923950\n",
       "min           1.000000\n",
       "25%           5.733333\n",
       "50%           8.616667\n",
       "75%          12.583333\n",
       "max      287840.000000\n",
       "Name: duration, dtype: float64"
      ]
     },
     "execution_count": 111,
     "metadata": {},
     "output_type": "execute_result"
    }
   ],
   "source": [
    "#Convert to datetime so that it can be manipulated more easily\n",
    "trip_df.start_date = pd.to_datetime(trip_df.start_date, format='%m/%d/%Y %H:%M')\n",
    "trip_df.end_date = pd.to_datetime(trip_df.end_date, format='%m/%d/%Y %H:%M')\n",
    "\n",
    "#duration is time of trip in seconds; convert to minutes\n",
    "trip_df.duration = trip_df.duration / 60\n",
    "trip_df.duration.describe()"
   ]
  },
  {
   "cell_type": "markdown",
   "metadata": {},
   "source": [
    "### Examine station data"
   ]
  },
  {
   "cell_type": "code",
   "execution_count": 112,
   "metadata": {},
   "outputs": [
    {
     "data": {
      "text/html": [
       "<div>\n",
       "<style scoped>\n",
       "    .dataframe tbody tr th:only-of-type {\n",
       "        vertical-align: middle;\n",
       "    }\n",
       "\n",
       "    .dataframe tbody tr th {\n",
       "        vertical-align: top;\n",
       "    }\n",
       "\n",
       "    .dataframe thead th {\n",
       "        text-align: right;\n",
       "    }\n",
       "</style>\n",
       "<table border=\"1\" class=\"dataframe\">\n",
       "  <thead>\n",
       "    <tr style=\"text-align: right;\">\n",
       "      <th></th>\n",
       "      <th>id</th>\n",
       "      <th>name</th>\n",
       "      <th>lat</th>\n",
       "      <th>long</th>\n",
       "      <th>dock_count</th>\n",
       "      <th>city</th>\n",
       "      <th>installation_date</th>\n",
       "    </tr>\n",
       "  </thead>\n",
       "  <tbody>\n",
       "    <tr>\n",
       "      <th>0</th>\n",
       "      <td>2</td>\n",
       "      <td>San Jose Diridon Caltrain Station</td>\n",
       "      <td>37.329732</td>\n",
       "      <td>-121.901782</td>\n",
       "      <td>27</td>\n",
       "      <td>San Jose</td>\n",
       "      <td>8/6/2013</td>\n",
       "    </tr>\n",
       "    <tr>\n",
       "      <th>1</th>\n",
       "      <td>3</td>\n",
       "      <td>San Jose Civic Center</td>\n",
       "      <td>37.330698</td>\n",
       "      <td>-121.888979</td>\n",
       "      <td>15</td>\n",
       "      <td>San Jose</td>\n",
       "      <td>8/5/2013</td>\n",
       "    </tr>\n",
       "    <tr>\n",
       "      <th>2</th>\n",
       "      <td>4</td>\n",
       "      <td>Santa Clara at Almaden</td>\n",
       "      <td>37.333988</td>\n",
       "      <td>-121.894902</td>\n",
       "      <td>11</td>\n",
       "      <td>San Jose</td>\n",
       "      <td>8/6/2013</td>\n",
       "    </tr>\n",
       "    <tr>\n",
       "      <th>3</th>\n",
       "      <td>5</td>\n",
       "      <td>Adobe on Almaden</td>\n",
       "      <td>37.331415</td>\n",
       "      <td>-121.893200</td>\n",
       "      <td>19</td>\n",
       "      <td>San Jose</td>\n",
       "      <td>8/5/2013</td>\n",
       "    </tr>\n",
       "    <tr>\n",
       "      <th>4</th>\n",
       "      <td>6</td>\n",
       "      <td>San Pedro Square</td>\n",
       "      <td>37.336721</td>\n",
       "      <td>-121.894074</td>\n",
       "      <td>15</td>\n",
       "      <td>San Jose</td>\n",
       "      <td>8/7/2013</td>\n",
       "    </tr>\n",
       "  </tbody>\n",
       "</table>\n",
       "</div>"
      ],
      "text/plain": [
       "   id                               name        lat        long  dock_count  \\\n",
       "0   2  San Jose Diridon Caltrain Station  37.329732 -121.901782          27   \n",
       "1   3              San Jose Civic Center  37.330698 -121.888979          15   \n",
       "2   4             Santa Clara at Almaden  37.333988 -121.894902          11   \n",
       "3   5                   Adobe on Almaden  37.331415 -121.893200          19   \n",
       "4   6                   San Pedro Square  37.336721 -121.894074          15   \n",
       "\n",
       "       city installation_date  \n",
       "0  San Jose          8/6/2013  \n",
       "1  San Jose          8/5/2013  \n",
       "2  San Jose          8/6/2013  \n",
       "3  San Jose          8/5/2013  \n",
       "4  San Jose          8/7/2013  "
      ]
     },
     "execution_count": 112,
     "metadata": {},
     "output_type": "execute_result"
    }
   ],
   "source": [
    "station_df.head()"
   ]
  },
  {
   "cell_type": "code",
   "execution_count": 113,
   "metadata": {},
   "outputs": [
    {
     "name": "stdout",
     "output_type": "stream",
     "text": [
      "<class 'pandas.core.frame.DataFrame'>\n",
      "RangeIndex: 70 entries, 0 to 69\n",
      "Data columns (total 7 columns):\n",
      "id                   70 non-null int64\n",
      "name                 70 non-null object\n",
      "lat                  70 non-null float64\n",
      "long                 70 non-null float64\n",
      "dock_count           70 non-null int64\n",
      "city                 70 non-null object\n",
      "installation_date    70 non-null object\n",
      "dtypes: float64(2), int64(2), object(3)\n",
      "memory usage: 3.9+ KB\n"
     ]
    }
   ],
   "source": [
    "station_df.info()"
   ]
  },
  {
   "cell_type": "code",
   "execution_count": 114,
   "metadata": {},
   "outputs": [
    {
     "data": {
      "text/plain": [
       "id                   0\n",
       "name                 0\n",
       "lat                  0\n",
       "long                 0\n",
       "dock_count           0\n",
       "city                 0\n",
       "installation_date    0\n",
       "dtype: int64"
      ]
     },
     "execution_count": 114,
     "metadata": {},
     "output_type": "execute_result"
    }
   ],
   "source": [
    "#look for missing data; should be zero as info summary above gives 70 entries for each column\n",
    "station_df.isnull().sum()"
   ]
  },
  {
   "cell_type": "code",
   "execution_count": 115,
   "metadata": {},
   "outputs": [
    {
     "data": {
      "text/plain": [
       "<matplotlib.axes._subplots.AxesSubplot at 0x1a349b75c0>"
      ]
     },
     "execution_count": 115,
     "metadata": {},
     "output_type": "execute_result"
    },
    {
     "data": {
      "image/png": "[encoded data removed]",
      "text/plain": [
       "<Figure size 432x288 with 1 Axes>"
      ]
     },
     "metadata": {
      "needs_background": "light"
     },
     "output_type": "display_data"
    }
   ],
   "source": [
    "#stations by city\n",
    "station_df.city.value_counts().plot(kind='bar')\n",
    "# SF has 35 stations"
   ]
  },
  {
   "cell_type": "code",
   "execution_count": 116,
   "metadata": {},
   "outputs": [
    {
     "data": {
      "text/plain": [
       "<matplotlib.axes._subplots.AxesSubplot at 0x1a349a97b8>"
      ]
     },
     "execution_count": 116,
     "metadata": {},
     "output_type": "execute_result"
    },
    {
     "data": {
      "image/png": "[encoded data removed]",
      "text/plain": [
       "<Figure size 432x288 with 1 Axes>"
      ]
     },
     "metadata": {
      "needs_background": "light"
     },
     "output_type": "display_data"
    }
   ],
   "source": [
    "# number of docks per city   \n",
    "station_df.groupby('city')['dock_count'].sum().plot(kind='bar')\n",
    "# SF has 665"
   ]
  },
  {
   "cell_type": "code",
   "execution_count": null,
   "metadata": {},
   "outputs": [],
   "source": []
  },
  {
   "cell_type": "markdown",
   "metadata": {},
   "source": [
    "### Narrow focus to SF"
   ]
  },
  {
   "cell_type": "code",
   "execution_count": 117,
   "metadata": {},
   "outputs": [
    {
     "data": {
      "text/html": [
       "<div>\n",
       "<style scoped>\n",
       "    .dataframe tbody tr th:only-of-type {\n",
       "        vertical-align: middle;\n",
       "    }\n",
       "\n",
       "    .dataframe tbody tr th {\n",
       "        vertical-align: top;\n",
       "    }\n",
       "\n",
       "    .dataframe thead th {\n",
       "        text-align: right;\n",
       "    }\n",
       "</style>\n",
       "<table border=\"1\" class=\"dataframe\">\n",
       "  <thead>\n",
       "    <tr style=\"text-align: right;\">\n",
       "      <th></th>\n",
       "      <th>id</th>\n",
       "      <th>name</th>\n",
       "      <th>lat</th>\n",
       "      <th>long</th>\n",
       "      <th>dock_count</th>\n",
       "      <th>city</th>\n",
       "      <th>installation_date</th>\n",
       "    </tr>\n",
       "  </thead>\n",
       "  <tbody>\n",
       "    <tr>\n",
       "      <th>32</th>\n",
       "      <td>41</td>\n",
       "      <td>Clay at Battery</td>\n",
       "      <td>37.795001</td>\n",
       "      <td>-122.399970</td>\n",
       "      <td>15</td>\n",
       "      <td>San Francisco</td>\n",
       "      <td>8/19/2013</td>\n",
       "    </tr>\n",
       "    <tr>\n",
       "      <th>33</th>\n",
       "      <td>42</td>\n",
       "      <td>Davis at Jackson</td>\n",
       "      <td>37.797280</td>\n",
       "      <td>-122.398436</td>\n",
       "      <td>15</td>\n",
       "      <td>San Francisco</td>\n",
       "      <td>8/19/2013</td>\n",
       "    </tr>\n",
       "    <tr>\n",
       "      <th>34</th>\n",
       "      <td>45</td>\n",
       "      <td>Commercial at Montgomery</td>\n",
       "      <td>37.794231</td>\n",
       "      <td>-122.402923</td>\n",
       "      <td>15</td>\n",
       "      <td>San Francisco</td>\n",
       "      <td>8/19/2013</td>\n",
       "    </tr>\n",
       "    <tr>\n",
       "      <th>35</th>\n",
       "      <td>46</td>\n",
       "      <td>Washington at Kearney</td>\n",
       "      <td>37.795425</td>\n",
       "      <td>-122.404767</td>\n",
       "      <td>15</td>\n",
       "      <td>San Francisco</td>\n",
       "      <td>8/19/2013</td>\n",
       "    </tr>\n",
       "    <tr>\n",
       "      <th>36</th>\n",
       "      <td>47</td>\n",
       "      <td>Post at Kearney</td>\n",
       "      <td>37.788975</td>\n",
       "      <td>-122.403452</td>\n",
       "      <td>19</td>\n",
       "      <td>San Francisco</td>\n",
       "      <td>8/19/2013</td>\n",
       "    </tr>\n",
       "  </tbody>\n",
       "</table>\n",
       "</div>"
      ],
      "text/plain": [
       "    id                      name        lat        long  dock_count  \\\n",
       "32  41           Clay at Battery  37.795001 -122.399970          15   \n",
       "33  42          Davis at Jackson  37.797280 -122.398436          15   \n",
       "34  45  Commercial at Montgomery  37.794231 -122.402923          15   \n",
       "35  46     Washington at Kearney  37.795425 -122.404767          15   \n",
       "36  47           Post at Kearney  37.788975 -122.403452          19   \n",
       "\n",
       "             city installation_date  \n",
       "32  San Francisco         8/19/2013  \n",
       "33  San Francisco         8/19/2013  \n",
       "34  San Francisco         8/19/2013  \n",
       "35  San Francisco         8/19/2013  \n",
       "36  San Francisco         8/19/2013  "
      ]
     },
     "execution_count": 117,
     "metadata": {},
     "output_type": "execute_result"
    }
   ],
   "source": [
    "# Narrow focus to SF stations\n",
    "sf_stations = station_df.loc[station_df.city == 'San Francisco']\n",
    "sf_stations.head()"
   ]
  },
  {
   "cell_type": "code",
   "execution_count": 118,
   "metadata": {},
   "outputs": [
    {
     "data": {
      "text/plain": [
       "array([66, 59, 49, 64, 41, 47, 67, 74, 39, 58, 56, 55, 61, 72, 45, 76, 62,\n",
       "       46, 68, 71, 69, 73, 48, 75, 70, 50, 77, 65, 60, 42, 54, 57, 51, 63,\n",
       "       82])"
      ]
     },
     "execution_count": 118,
     "metadata": {},
     "output_type": "execute_result"
    }
   ],
   "source": [
    "# Narrow focus to SF trips\n",
    "sf_id = list(sf_stations.id)\n",
    "sf_trips = trip_df[trip_df.start_station_id.isin(sf_id)]\n",
    "sf_trips.start_station_id.unique()"
   ]
  },
  {
   "cell_type": "code",
   "execution_count": null,
   "metadata": {},
   "outputs": [],
   "source": []
  },
  {
   "cell_type": "markdown",
   "metadata": {},
   "source": [
    "### Examine SF trip data"
   ]
  },
  {
   "cell_type": "code",
   "execution_count": 119,
   "metadata": {},
   "outputs": [
    {
     "data": {
      "text/html": [
       "<div>\n",
       "<style scoped>\n",
       "    .dataframe tbody tr th:only-of-type {\n",
       "        vertical-align: middle;\n",
       "    }\n",
       "\n",
       "    .dataframe tbody tr th {\n",
       "        vertical-align: top;\n",
       "    }\n",
       "\n",
       "    .dataframe thead th {\n",
       "        text-align: right;\n",
       "    }\n",
       "</style>\n",
       "<table border=\"1\" class=\"dataframe\">\n",
       "  <thead>\n",
       "    <tr style=\"text-align: right;\">\n",
       "      <th></th>\n",
       "      <th>id</th>\n",
       "      <th>duration</th>\n",
       "      <th>start_date</th>\n",
       "      <th>start_station_name</th>\n",
       "      <th>start_station_id</th>\n",
       "      <th>end_date</th>\n",
       "      <th>end_station_name</th>\n",
       "      <th>end_station_id</th>\n",
       "      <th>bike_id</th>\n",
       "      <th>subscription_type</th>\n",
       "      <th>zip_code</th>\n",
       "    </tr>\n",
       "  </thead>\n",
       "  <tbody>\n",
       "    <tr>\n",
       "      <th>0</th>\n",
       "      <td>4576</td>\n",
       "      <td>1.050000</td>\n",
       "      <td>2013-08-29 14:13:00</td>\n",
       "      <td>South Van Ness at Market</td>\n",
       "      <td>66</td>\n",
       "      <td>2013-08-29 14:14:00</td>\n",
       "      <td>South Van Ness at Market</td>\n",
       "      <td>66</td>\n",
       "      <td>520</td>\n",
       "      <td>Subscriber</td>\n",
       "      <td>94127</td>\n",
       "    </tr>\n",
       "    <tr>\n",
       "      <th>4</th>\n",
       "      <td>4299</td>\n",
       "      <td>1.383333</td>\n",
       "      <td>2013-08-29 12:02:00</td>\n",
       "      <td>South Van Ness at Market</td>\n",
       "      <td>66</td>\n",
       "      <td>2013-08-29 12:04:00</td>\n",
       "      <td>Market at 10th</td>\n",
       "      <td>67</td>\n",
       "      <td>319</td>\n",
       "      <td>Subscriber</td>\n",
       "      <td>94103</td>\n",
       "    </tr>\n",
       "    <tr>\n",
       "      <th>5</th>\n",
       "      <td>4927</td>\n",
       "      <td>1.716667</td>\n",
       "      <td>2013-08-29 18:54:00</td>\n",
       "      <td>Golden Gate at Polk</td>\n",
       "      <td>59</td>\n",
       "      <td>2013-08-29 18:56:00</td>\n",
       "      <td>Golden Gate at Polk</td>\n",
       "      <td>59</td>\n",
       "      <td>527</td>\n",
       "      <td>Subscriber</td>\n",
       "      <td>94109</td>\n",
       "    </tr>\n",
       "    <tr>\n",
       "      <th>8</th>\n",
       "      <td>4760</td>\n",
       "      <td>1.883333</td>\n",
       "      <td>2013-08-29 17:01:00</td>\n",
       "      <td>South Van Ness at Market</td>\n",
       "      <td>66</td>\n",
       "      <td>2013-08-29 17:03:00</td>\n",
       "      <td>South Van Ness at Market</td>\n",
       "      <td>66</td>\n",
       "      <td>553</td>\n",
       "      <td>Subscriber</td>\n",
       "      <td>94103</td>\n",
       "    </tr>\n",
       "    <tr>\n",
       "      <th>10</th>\n",
       "      <td>4549</td>\n",
       "      <td>2.083333</td>\n",
       "      <td>2013-08-29 13:52:00</td>\n",
       "      <td>Spear at Folsom</td>\n",
       "      <td>49</td>\n",
       "      <td>2013-08-29 13:55:00</td>\n",
       "      <td>Embarcadero at Bryant</td>\n",
       "      <td>54</td>\n",
       "      <td>368</td>\n",
       "      <td>Subscriber</td>\n",
       "      <td>94109</td>\n",
       "    </tr>\n",
       "  </tbody>\n",
       "</table>\n",
       "</div>"
      ],
      "text/plain": [
       "      id  duration          start_date        start_station_name  \\\n",
       "0   4576  1.050000 2013-08-29 14:13:00  South Van Ness at Market   \n",
       "4   4299  1.383333 2013-08-29 12:02:00  South Van Ness at Market   \n",
       "5   4927  1.716667 2013-08-29 18:54:00       Golden Gate at Polk   \n",
       "8   4760  1.883333 2013-08-29 17:01:00  South Van Ness at Market   \n",
       "10  4549  2.083333 2013-08-29 13:52:00           Spear at Folsom   \n",
       "\n",
       "    start_station_id            end_date          end_station_name  \\\n",
       "0                 66 2013-08-29 14:14:00  South Van Ness at Market   \n",
       "4                 66 2013-08-29 12:04:00            Market at 10th   \n",
       "5                 59 2013-08-29 18:56:00       Golden Gate at Polk   \n",
       "8                 66 2013-08-29 17:03:00  South Van Ness at Market   \n",
       "10                49 2013-08-29 13:55:00     Embarcadero at Bryant   \n",
       "\n",
       "    end_station_id  bike_id subscription_type zip_code  \n",
       "0               66      520        Subscriber    94127  \n",
       "4               67      319        Subscriber    94103  \n",
       "5               59      527        Subscriber    94109  \n",
       "8               66      553        Subscriber    94103  \n",
       "10              54      368        Subscriber    94109  "
      ]
     },
     "execution_count": 119,
     "metadata": {},
     "output_type": "execute_result"
    }
   ],
   "source": [
    "sf_trips.head()"
   ]
  },
  {
   "cell_type": "code",
   "execution_count": 120,
   "metadata": {},
   "outputs": [
    {
     "name": "stdout",
     "output_type": "stream",
     "text": [
      "<class 'pandas.core.frame.DataFrame'>\n",
      "Int64Index: 603708 entries, 0 to 669958\n",
      "Data columns (total 11 columns):\n",
      "id                    603708 non-null int64\n",
      "duration              603708 non-null float64\n",
      "start_date            603708 non-null datetime64[ns]\n",
      "start_station_name    603708 non-null object\n",
      "start_station_id      603708 non-null int64\n",
      "end_date              603708 non-null datetime64[ns]\n",
      "end_station_name      603708 non-null object\n",
      "end_station_id        603708 non-null int64\n",
      "bike_id               603708 non-null int64\n",
      "subscription_type     603708 non-null object\n",
      "zip_code              597599 non-null object\n",
      "dtypes: datetime64[ns](2), float64(1), int64(4), object(4)\n",
      "memory usage: 55.3+ MB\n"
     ]
    }
   ],
   "source": [
    "sf_trips.info()"
   ]
  },
  {
   "cell_type": "code",
   "execution_count": null,
   "metadata": {
    "scrolled": true
   },
   "outputs": [],
   "source": []
  },
  {
   "cell_type": "code",
   "execution_count": 121,
   "metadata": {},
   "outputs": [
    {
     "name": "stderr",
     "output_type": "stream",
     "text": [
      "/Users/janellaslaga/anaconda3/lib/python3.7/site-packages/ipykernel_launcher.py:3: SettingWithCopyWarning: \n",
      "A value is trying to be set on a copy of a slice from a DataFrame.\n",
      "Try using .loc[row_indexer,col_indexer] = value instead\n",
      "\n",
      "See the caveats in the documentation: http://pandas.pydata.org/pandas-docs/stable/indexing.html#indexing-view-versus-copy\n",
      "  This is separate from the ipykernel package so we can avoid doing imports until\n",
      "/Users/janellaslaga/anaconda3/lib/python3.7/site-packages/ipykernel_launcher.py:5: SettingWithCopyWarning: \n",
      "A value is trying to be set on a copy of a slice from a DataFrame.\n",
      "Try using .loc[row_indexer,col_indexer] = value instead\n",
      "\n",
      "See the caveats in the documentation: http://pandas.pydata.org/pandas-docs/stable/indexing.html#indexing-view-versus-copy\n",
      "  \"\"\"\n",
      "/Users/janellaslaga/anaconda3/lib/python3.7/site-packages/ipykernel_launcher.py:6: SettingWithCopyWarning: \n",
      "A value is trying to be set on a copy of a slice from a DataFrame.\n",
      "Try using .loc[row_indexer,col_indexer] = value instead\n",
      "\n",
      "See the caveats in the documentation: http://pandas.pydata.org/pandas-docs/stable/indexing.html#indexing-view-versus-copy\n",
      "  \n"
     ]
    }
   ],
   "source": [
    "# Create column denoting weekend or weekday: DOW\n",
    "\n",
    "sf_trips['weekday'] = pd.DatetimeIndex(sf_trips.start_date).dayofweek\n",
    "\n",
    "sf_trips['DOW'] = None\n",
    "sf_trips['DOW'] = ['weekend' if day in [5,6] else \"weekday\" for day in sf_trips['weekday']]\n",
    "sf_trips = sf_trips.copy()"
   ]
  },
  {
   "cell_type": "code",
   "execution_count": 122,
   "metadata": {},
   "outputs": [
    {
     "data": {
      "text/html": [
       "<div>\n",
       "<style scoped>\n",
       "    .dataframe tbody tr th:only-of-type {\n",
       "        vertical-align: middle;\n",
       "    }\n",
       "\n",
       "    .dataframe tbody tr th {\n",
       "        vertical-align: top;\n",
       "    }\n",
       "\n",
       "    .dataframe thead th {\n",
       "        text-align: right;\n",
       "    }\n",
       "</style>\n",
       "<table border=\"1\" class=\"dataframe\">\n",
       "  <thead>\n",
       "    <tr style=\"text-align: right;\">\n",
       "      <th></th>\n",
       "      <th>id</th>\n",
       "      <th>duration</th>\n",
       "      <th>start_date</th>\n",
       "      <th>start_station_name</th>\n",
       "      <th>start_station_id</th>\n",
       "      <th>end_date</th>\n",
       "      <th>end_station_name</th>\n",
       "      <th>end_station_id</th>\n",
       "      <th>bike_id</th>\n",
       "      <th>subscription_type</th>\n",
       "      <th>zip_code</th>\n",
       "      <th>weekday</th>\n",
       "      <th>DOW</th>\n",
       "    </tr>\n",
       "  </thead>\n",
       "  <tbody>\n",
       "    <tr>\n",
       "      <th>0</th>\n",
       "      <td>4576</td>\n",
       "      <td>1.050000</td>\n",
       "      <td>2013-08-29 14:13:00</td>\n",
       "      <td>South Van Ness at Market</td>\n",
       "      <td>66</td>\n",
       "      <td>2013-08-29 14:14:00</td>\n",
       "      <td>South Van Ness at Market</td>\n",
       "      <td>66</td>\n",
       "      <td>520</td>\n",
       "      <td>Subscriber</td>\n",
       "      <td>94127</td>\n",
       "      <td>3</td>\n",
       "      <td>weekday</td>\n",
       "    </tr>\n",
       "    <tr>\n",
       "      <th>4</th>\n",
       "      <td>4299</td>\n",
       "      <td>1.383333</td>\n",
       "      <td>2013-08-29 12:02:00</td>\n",
       "      <td>South Van Ness at Market</td>\n",
       "      <td>66</td>\n",
       "      <td>2013-08-29 12:04:00</td>\n",
       "      <td>Market at 10th</td>\n",
       "      <td>67</td>\n",
       "      <td>319</td>\n",
       "      <td>Subscriber</td>\n",
       "      <td>94103</td>\n",
       "      <td>3</td>\n",
       "      <td>weekday</td>\n",
       "    </tr>\n",
       "    <tr>\n",
       "      <th>5</th>\n",
       "      <td>4927</td>\n",
       "      <td>1.716667</td>\n",
       "      <td>2013-08-29 18:54:00</td>\n",
       "      <td>Golden Gate at Polk</td>\n",
       "      <td>59</td>\n",
       "      <td>2013-08-29 18:56:00</td>\n",
       "      <td>Golden Gate at Polk</td>\n",
       "      <td>59</td>\n",
       "      <td>527</td>\n",
       "      <td>Subscriber</td>\n",
       "      <td>94109</td>\n",
       "      <td>3</td>\n",
       "      <td>weekday</td>\n",
       "    </tr>\n",
       "    <tr>\n",
       "      <th>8</th>\n",
       "      <td>4760</td>\n",
       "      <td>1.883333</td>\n",
       "      <td>2013-08-29 17:01:00</td>\n",
       "      <td>South Van Ness at Market</td>\n",
       "      <td>66</td>\n",
       "      <td>2013-08-29 17:03:00</td>\n",
       "      <td>South Van Ness at Market</td>\n",
       "      <td>66</td>\n",
       "      <td>553</td>\n",
       "      <td>Subscriber</td>\n",
       "      <td>94103</td>\n",
       "      <td>3</td>\n",
       "      <td>weekday</td>\n",
       "    </tr>\n",
       "    <tr>\n",
       "      <th>10</th>\n",
       "      <td>4549</td>\n",
       "      <td>2.083333</td>\n",
       "      <td>2013-08-29 13:52:00</td>\n",
       "      <td>Spear at Folsom</td>\n",
       "      <td>49</td>\n",
       "      <td>2013-08-29 13:55:00</td>\n",
       "      <td>Embarcadero at Bryant</td>\n",
       "      <td>54</td>\n",
       "      <td>368</td>\n",
       "      <td>Subscriber</td>\n",
       "      <td>94109</td>\n",
       "      <td>3</td>\n",
       "      <td>weekday</td>\n",
       "    </tr>\n",
       "  </tbody>\n",
       "</table>\n",
       "</div>"
      ],
      "text/plain": [
       "      id  duration          start_date        start_station_name  \\\n",
       "0   4576  1.050000 2013-08-29 14:13:00  South Van Ness at Market   \n",
       "4   4299  1.383333 2013-08-29 12:02:00  South Van Ness at Market   \n",
       "5   4927  1.716667 2013-08-29 18:54:00       Golden Gate at Polk   \n",
       "8   4760  1.883333 2013-08-29 17:01:00  South Van Ness at Market   \n",
       "10  4549  2.083333 2013-08-29 13:52:00           Spear at Folsom   \n",
       "\n",
       "    start_station_id            end_date          end_station_name  \\\n",
       "0                 66 2013-08-29 14:14:00  South Van Ness at Market   \n",
       "4                 66 2013-08-29 12:04:00            Market at 10th   \n",
       "5                 59 2013-08-29 18:56:00       Golden Gate at Polk   \n",
       "8                 66 2013-08-29 17:03:00  South Van Ness at Market   \n",
       "10                49 2013-08-29 13:55:00     Embarcadero at Bryant   \n",
       "\n",
       "    end_station_id  bike_id subscription_type zip_code  weekday      DOW  \n",
       "0               66      520        Subscriber    94127        3  weekday  \n",
       "4               67      319        Subscriber    94103        3  weekday  \n",
       "5               59      527        Subscriber    94109        3  weekday  \n",
       "8               66      553        Subscriber    94103        3  weekday  \n",
       "10              54      368        Subscriber    94109        3  weekday  "
      ]
     },
     "execution_count": 122,
     "metadata": {},
     "output_type": "execute_result"
    }
   ],
   "source": [
    "sf_trips.head()"
   ]
  },
  {
   "cell_type": "code",
   "execution_count": 123,
   "metadata": {},
   "outputs": [
    {
     "data": {
      "text/plain": [
       "count    603708.000000\n",
       "mean         17.117811\n",
       "std         380.557814\n",
       "min           1.000000\n",
       "25%           5.916667\n",
       "50%           8.750000\n",
       "75%          12.600000\n",
       "max      287840.000000\n",
       "Name: duration, dtype: float64"
      ]
     },
     "execution_count": 123,
     "metadata": {},
     "output_type": "execute_result"
    }
   ],
   "source": [
    "sf_trips.duration.describe()         "
   ]
  },
  {
   "cell_type": "markdown",
   "metadata": {},
   "source": [
    "The mean duration of 17.117811 is greater than the 75% of the data, and the std is 380.557814 (over 6 hours). The max duration is 4797 hours. Clearly, outliers are strongly affecting the data. Rather than replacing the values with the median value for duration, these trips will not included in the clean dataset as these trips are most likely errors in usage."
   ]
  },
  {
   "cell_type": "markdown",
   "metadata": {},
   "source": [
    "#### Remove Outliers"
   ]
  },
  {
   "cell_type": "markdown",
   "metadata": {},
   "source": [
    "Since the std is so large and the 3Q is 12.6, using 3SD to remove outliers will not be effective. Instead, we used quantiles to identify extreme values."
   ]
  },
  {
   "cell_type": "code",
   "execution_count": 124,
   "metadata": {},
   "outputs": [],
   "source": [
    "# quartile_1, quartile_3 = np.percentile(sf_trips['duration'], [25, 75])\n",
    "# iqr = quartile_3 - quartile_1\n",
    "# lower_bound = quartile_1 - (float(iqr) * 1.5)\n",
    "# upper_bound = quartile_3 + (float(iqr) * 1.5)\n",
    "\n",
    "# sf_trips_clean2 = sf_trips.loc[sf_trips.duration < upper_bound]\n",
    "\n",
    "## This results in a lower bound is a negative number (negative ride duration) and an upper bound of 22.6249995.\n",
    "## This removes a significant amount of valid trips from the data. The method below retains 98% of the data and\n",
    "## retaining trips with a resonable range of durations for us to explore."
   ]
  },
  {
   "cell_type": "code",
   "execution_count": null,
   "metadata": {},
   "outputs": [],
   "source": []
  },
  {
   "cell_type": "code",
   "execution_count": 125,
   "metadata": {},
   "outputs": [
    {
     "data": {
      "text/plain": [
       "102.64766666666645"
      ]
     },
     "execution_count": 125,
     "metadata": {},
     "output_type": "execute_result"
    }
   ],
   "source": [
    "# large std of 380.557814 and 3Q = 12.6; use quantiles instead of 3SD\n",
    "\n",
    "np.quantile(sf_trips.duration, .98)  #102.64766666666645"
   ]
  },
  {
   "cell_type": "code",
   "execution_count": 126,
   "metadata": {},
   "outputs": [],
   "source": [
    "sf_trips_clean = sf_trips.loc[sf_trips.duration < np.quantile(sf_trips.duration, 0.98)]"
   ]
  },
  {
   "cell_type": "markdown",
   "metadata": {},
   "source": [
    "#### Compare before and after removal of outliers: sf_trips vs sf_trips_clean"
   ]
  },
  {
   "cell_type": "code",
   "execution_count": 127,
   "metadata": {
    "scrolled": true
   },
   "outputs": [
    {
     "data": {
      "text/plain": [
       "<matplotlib.axes._subplots.AxesSubplot at 0x1a2a1e7320>"
      ]
     },
     "execution_count": 127,
     "metadata": {},
     "output_type": "execute_result"
    },
    {
     "data": {
      "image/png": "[encoded data removed]",
      "text/plain": [
       "<Figure size 432x288 with 1 Axes>"
      ]
     },
     "metadata": {
      "needs_background": "light"
     },
     "output_type": "display_data"
    }
   ],
   "source": [
    "sb.boxplot(sf_trips['duration'], orient='v')"
   ]
  },
  {
   "cell_type": "code",
   "execution_count": 128,
   "metadata": {},
   "outputs": [
    {
     "data": {
      "text/plain": [
       "<matplotlib.axes._subplots.AxesSubplot at 0x1a2c3b8e48>"
      ]
     },
     "execution_count": 128,
     "metadata": {},
     "output_type": "execute_result"
    },
    {
     "data": {
      "image/png": "[encoded data removed]",
      "text/plain": [
       "<Figure size 432x288 with 1 Axes>"
      ]
     },
     "metadata": {
      "needs_background": "light"
     },
     "output_type": "display_data"
    }
   ],
   "source": [
    "sb.violinplot(sf_trips['duration'], orient='v', showfliers=False)"
   ]
  },
  {
   "cell_type": "code",
   "execution_count": 129,
   "metadata": {},
   "outputs": [
    {
     "data": {
      "text/plain": [
       "count    603708.000000\n",
       "mean         17.117811\n",
       "std         380.557814\n",
       "min           1.000000\n",
       "25%           5.916667\n",
       "50%           8.750000\n",
       "75%          12.600000\n",
       "max      287840.000000\n",
       "Name: duration, dtype: float64"
      ]
     },
     "execution_count": 129,
     "metadata": {},
     "output_type": "execute_result"
    }
   ],
   "source": [
    "sf_trips.duration.describe()  #with outliers"
   ]
  },
  {
   "cell_type": "code",
   "execution_count": 130,
   "metadata": {},
   "outputs": [
    {
     "data": {
      "text/plain": [
       "count    591633.000000\n",
       "mean         10.652207\n",
       "std           9.414143\n",
       "min           1.000000\n",
       "25%           5.866667\n",
       "50%           8.616667\n",
       "75%          12.300000\n",
       "max         102.633333\n",
       "Name: duration, dtype: float64"
      ]
     },
     "execution_count": 130,
     "metadata": {},
     "output_type": "execute_result"
    }
   ],
   "source": [
    "sf_trips_clean.duration.describe() #without outliers"
   ]
  },
  {
   "cell_type": "code",
   "execution_count": 131,
   "metadata": {},
   "outputs": [
    {
     "data": {
      "text/plain": [
       "<matplotlib.axes._subplots.AxesSubplot at 0x1a35c86588>"
      ]
     },
     "execution_count": 131,
     "metadata": {},
     "output_type": "execute_result"
    },
    {
     "data": {
      "image/png": "[encoded data removed]",
      "text/plain": [
       "<Figure size 432x288 with 1 Axes>"
      ]
     },
     "metadata": {
      "needs_background": "light"
     },
     "output_type": "display_data"
    }
   ],
   "source": [
    "sb.boxplot(sf_trips_clean['duration'], orient='v')"
   ]
  },
  {
   "cell_type": "code",
   "execution_count": 132,
   "metadata": {},
   "outputs": [
    {
     "data": {
      "text/plain": [
       "<matplotlib.axes._subplots.AxesSubplot at 0x1a2a1b3ef0>"
      ]
     },
     "execution_count": 132,
     "metadata": {},
     "output_type": "execute_result"
    },
    {
     "data": {
      "image/png": "[encoded data removed]",
      "text/plain": [
       "<Figure size 432x288 with 1 Axes>"
      ]
     },
     "metadata": {
      "needs_background": "light"
     },
     "output_type": "display_data"
    }
   ],
   "source": [
    "sb.violinplot(sf_trips_clean['duration'], orient='v', showfliers=False)"
   ]
  },
  {
   "cell_type": "code",
   "execution_count": 133,
   "metadata": {},
   "outputs": [
    {
     "data": {
      "text/plain": [
       "count    591633.000000\n",
       "mean         10.652207\n",
       "std           9.414143\n",
       "min           1.000000\n",
       "25%           5.866667\n",
       "50%           8.616667\n",
       "75%          12.300000\n",
       "max         102.633333\n",
       "Name: duration, dtype: float64"
      ]
     },
     "execution_count": 133,
     "metadata": {},
     "output_type": "execute_result"
    }
   ],
   "source": [
    "sf_trips_clean.duration.describe()"
   ]
  },
  {
   "cell_type": "markdown",
   "metadata": {},
   "source": [
    "The mean is now 10.652207 and the std is 9.414143. After the removal of the outliers, we can see from the violin plot the density of the data around the mean."
   ]
  },
  {
   "cell_type": "code",
   "execution_count": null,
   "metadata": {},
   "outputs": [],
   "source": []
  },
  {
   "cell_type": "markdown",
   "metadata": {},
   "source": [
    "#### Comparisons: Subscriber vs. Customer, Weekday vs. Weekend"
   ]
  },
  {
   "cell_type": "markdown",
   "metadata": {},
   "source": [
    "We divide data by subscription type and by day of week to examine possible differences in ride usage. These categories may provide insight into patterns of commuters or causual rides."
   ]
  },
  {
   "cell_type": "code",
   "execution_count": 134,
   "metadata": {},
   "outputs": [
    {
     "data": {
      "text/plain": [
       "<matplotlib.axes._subplots.AxesSubplot at 0x1a29055c18>"
      ]
     },
     "execution_count": 134,
     "metadata": {},
     "output_type": "execute_result"
    },
    {
     "data": {
      "image/png": "[encoded data removed]",
      "text/plain": [
       "<Figure size 432x288 with 2 Axes>"
      ]
     },
     "metadata": {
      "needs_background": "light"
     },
     "output_type": "display_data"
    }
   ],
   "source": [
    "plt.subplot(1, 2, 1)\n",
    "sb.boxplot(x='subscription_type', y='duration', data=sf_trips_clean, palette=\"muted\", showfliers=False)\n",
    "\n",
    "plt.subplot(1, 2, 2)\n",
    "sb.boxplot(x='DOW', y='duration', data=sf_trips_clean, palette=\"muted\", showfliers=False)"
   ]
  },
  {
   "cell_type": "code",
   "execution_count": 135,
   "metadata": {},
   "outputs": [
    {
     "data": {
      "text/plain": [
       "<matplotlib.axes._subplots.AxesSubplot at 0x1a292a6e10>"
      ]
     },
     "execution_count": 135,
     "metadata": {},
     "output_type": "execute_result"
    },
    {
     "data": {
      "image/png": "[encoded data removed]",
      "text/plain": [
       "<Figure size 432x288 with 1 Axes>"
      ]
     },
     "metadata": {
      "needs_background": "light"
     },
     "output_type": "display_data"
    }
   ],
   "source": [
    "sb.violinplot(x='subscription_type', y='duration', data=sf_trips_clean, palette=\"muted\", showfliers=False)"
   ]
  },
  {
   "cell_type": "code",
   "execution_count": 136,
   "metadata": {},
   "outputs": [
    {
     "data": {
      "text/plain": [
       "<matplotlib.axes._subplots.AxesSubplot at 0x1a34786e80>"
      ]
     },
     "execution_count": 136,
     "metadata": {},
     "output_type": "execute_result"
    },
    {
     "data": {
      "image/png": "[encoded data removed]",
      "text/plain": [
       "<Figure size 432x288 with 1 Axes>"
      ]
     },
     "metadata": {
      "needs_background": "light"
     },
     "output_type": "display_data"
    }
   ],
   "source": [
    "sb.violinplot(x='DOW', y='duration', data=sf_trips_clean, palette=\"muted\", showfliers=False)"
   ]
  },
  {
   "cell_type": "markdown",
   "metadata": {},
   "source": [
    "Most subscriber trips have a duration less than 20 minutes while the customer trips have a larger range and tend to a longer duration. Similar patterns can be seen in comparing the weekday versus weekend durations. It may be that weekday trips tend to be commuters (and thus subscribers) whereas weekend trips (and one off customers) would be sightseeing and more leisurely rides."
   ]
  },
  {
   "cell_type": "code",
   "execution_count": null,
   "metadata": {},
   "outputs": [],
   "source": []
  },
  {
   "cell_type": "code",
   "execution_count": 137,
   "metadata": {},
   "outputs": [],
   "source": [
    "# Compare counts of trips per hour weekday vs weekend\n",
    "# As most trips are weekday trips, we examine proportional numbers"
   ]
  },
  {
   "cell_type": "code",
   "execution_count": null,
   "metadata": {},
   "outputs": [],
   "source": []
  },
  {
   "cell_type": "code",
   "execution_count": 138,
   "metadata": {},
   "outputs": [],
   "source": [
    "weekday_counts = pd.DatetimeIndex(sf_trips.loc[sf_trips.DOW == 'weekday'].start_date).hour\n",
    "weekend_counts = pd.DatetimeIndex(sf_trips.loc[sf_trips.DOW == 'weekend'].start_date).hour"
   ]
  },
  {
   "cell_type": "code",
   "execution_count": 139,
   "metadata": {},
   "outputs": [],
   "source": [
    "weekday_counts = Counter(weekday_counts)\n",
    "weekend_counts = Counter(weekend_counts)"
   ]
  },
  {
   "cell_type": "code",
   "execution_count": 140,
   "metadata": {},
   "outputs": [],
   "source": [
    "weekday_props = {hour:weekday_counts[hour]/sum(weekday_counts.values()) for hour in weekday_counts}\n",
    "weekend_props = {hour:weekend_counts[hour]/sum(weekend_counts.values()) for hour in weekend_counts}"
   ]
  },
  {
   "cell_type": "code",
   "execution_count": null,
   "metadata": {},
   "outputs": [],
   "source": []
  },
  {
   "cell_type": "code",
   "execution_count": 141,
   "metadata": {},
   "outputs": [],
   "source": [
    "xd = range(0,24)\n",
    "yd = [weekday_props[hour] for hour in range(0,24)]\n",
    "\n",
    "xe = range(0,24)\n",
    "ye = [weekend_props[hour] for hour in range(0,24)]"
   ]
  },
  {
   "cell_type": "code",
   "execution_count": 142,
   "metadata": {},
   "outputs": [
    {
     "data": {
      "image/png": "[encoded data removed]",
      "text/plain": [
       "<Figure size 432x288 with 1 Axes>"
      ]
     },
     "metadata": {
      "needs_background": "light"
     },
     "output_type": "display_data"
    }
   ],
   "source": [
    "fig = plt.figure()\n",
    "ax = fig.add_subplot(1,1,1)\n",
    "\n",
    "plt.plot(xd, yd, 'r-', xe, ye, 'b-')\n",
    "plt.xticks(xe)\n",
    "\n",
    "ax.set_xlabel('hour')\n",
    "ax.set_ylabel('proportion of trips') #at start time\n",
    "ax.legend(['weekday', 'weekend'])\n",
    "ax.grid()\n"
   ]
  },
  {
   "cell_type": "markdown",
   "metadata": {},
   "source": [
    "The clear spikes at morning and evening commute times and a lesser spike at lunchtime support our observations that weekday usuage is tied to commuting. Weekend usage, on the otherhand, has a gentle curve peaking midday and gradually decreasing through the afternoon as one would expect from more leisurely rides and sightseeing."
   ]
  },
  {
   "cell_type": "code",
   "execution_count": null,
   "metadata": {},
   "outputs": [],
   "source": []
  },
  {
   "cell_type": "code",
   "execution_count": null,
   "metadata": {},
   "outputs": [],
   "source": []
  },
  {
   "cell_type": "code",
   "execution_count": null,
   "metadata": {},
   "outputs": [],
   "source": []
  },
  {
   "cell_type": "markdown",
   "metadata": {},
   "source": [
    "### How does weather affect bike usage?"
   ]
  },
  {
   "cell_type": "markdown",
   "metadata": {},
   "source": [
    "Does weather have a strong effect on bike usage? We examine how temperature and precipitation affect bike usage, specifically duration of trips."
   ]
  },
  {
   "cell_type": "code",
   "execution_count": 143,
   "metadata": {},
   "outputs": [
    {
     "data": {
      "text/html": [
       "<div>\n",
       "<style scoped>\n",
       "    .dataframe tbody tr th:only-of-type {\n",
       "        vertical-align: middle;\n",
       "    }\n",
       "\n",
       "    .dataframe tbody tr th {\n",
       "        vertical-align: top;\n",
       "    }\n",
       "\n",
       "    .dataframe thead th {\n",
       "        text-align: right;\n",
       "    }\n",
       "</style>\n",
       "<table border=\"1\" class=\"dataframe\">\n",
       "  <thead>\n",
       "    <tr style=\"text-align: right;\">\n",
       "      <th></th>\n",
       "      <th>date</th>\n",
       "      <th>max_temperature_f</th>\n",
       "      <th>mean_temperature_f</th>\n",
       "      <th>min_temperature_f</th>\n",
       "      <th>max_dew_point_f</th>\n",
       "      <th>mean_dew_point_f</th>\n",
       "      <th>min_dew_point_f</th>\n",
       "      <th>max_humidity</th>\n",
       "      <th>mean_humidity</th>\n",
       "      <th>min_humidity</th>\n",
       "      <th>...</th>\n",
       "      <th>mean_visibility_miles</th>\n",
       "      <th>min_visibility_miles</th>\n",
       "      <th>max_wind_Speed_mph</th>\n",
       "      <th>mean_wind_speed_mph</th>\n",
       "      <th>max_gust_speed_mph</th>\n",
       "      <th>precipitation_inches</th>\n",
       "      <th>cloud_cover</th>\n",
       "      <th>events</th>\n",
       "      <th>wind_dir_degrees</th>\n",
       "      <th>zip_code</th>\n",
       "    </tr>\n",
       "  </thead>\n",
       "  <tbody>\n",
       "    <tr>\n",
       "      <th>0</th>\n",
       "      <td>8/29/2013</td>\n",
       "      <td>74.0</td>\n",
       "      <td>68.0</td>\n",
       "      <td>61.0</td>\n",
       "      <td>61.0</td>\n",
       "      <td>58.0</td>\n",
       "      <td>56.0</td>\n",
       "      <td>93.0</td>\n",
       "      <td>75.0</td>\n",
       "      <td>57.0</td>\n",
       "      <td>...</td>\n",
       "      <td>10.0</td>\n",
       "      <td>10.0</td>\n",
       "      <td>23.0</td>\n",
       "      <td>11.0</td>\n",
       "      <td>28.0</td>\n",
       "      <td>0</td>\n",
       "      <td>4.0</td>\n",
       "      <td>NaN</td>\n",
       "      <td>286.0</td>\n",
       "      <td>94107</td>\n",
       "    </tr>\n",
       "    <tr>\n",
       "      <th>1</th>\n",
       "      <td>8/30/2013</td>\n",
       "      <td>78.0</td>\n",
       "      <td>69.0</td>\n",
       "      <td>60.0</td>\n",
       "      <td>61.0</td>\n",
       "      <td>58.0</td>\n",
       "      <td>56.0</td>\n",
       "      <td>90.0</td>\n",
       "      <td>70.0</td>\n",
       "      <td>50.0</td>\n",
       "      <td>...</td>\n",
       "      <td>10.0</td>\n",
       "      <td>7.0</td>\n",
       "      <td>29.0</td>\n",
       "      <td>13.0</td>\n",
       "      <td>35.0</td>\n",
       "      <td>0</td>\n",
       "      <td>2.0</td>\n",
       "      <td>NaN</td>\n",
       "      <td>291.0</td>\n",
       "      <td>94107</td>\n",
       "    </tr>\n",
       "    <tr>\n",
       "      <th>2</th>\n",
       "      <td>8/31/2013</td>\n",
       "      <td>71.0</td>\n",
       "      <td>64.0</td>\n",
       "      <td>57.0</td>\n",
       "      <td>57.0</td>\n",
       "      <td>56.0</td>\n",
       "      <td>54.0</td>\n",
       "      <td>93.0</td>\n",
       "      <td>75.0</td>\n",
       "      <td>57.0</td>\n",
       "      <td>...</td>\n",
       "      <td>10.0</td>\n",
       "      <td>10.0</td>\n",
       "      <td>26.0</td>\n",
       "      <td>15.0</td>\n",
       "      <td>31.0</td>\n",
       "      <td>0</td>\n",
       "      <td>4.0</td>\n",
       "      <td>NaN</td>\n",
       "      <td>284.0</td>\n",
       "      <td>94107</td>\n",
       "    </tr>\n",
       "    <tr>\n",
       "      <th>3</th>\n",
       "      <td>9/1/2013</td>\n",
       "      <td>74.0</td>\n",
       "      <td>66.0</td>\n",
       "      <td>58.0</td>\n",
       "      <td>60.0</td>\n",
       "      <td>56.0</td>\n",
       "      <td>53.0</td>\n",
       "      <td>87.0</td>\n",
       "      <td>68.0</td>\n",
       "      <td>49.0</td>\n",
       "      <td>...</td>\n",
       "      <td>10.0</td>\n",
       "      <td>10.0</td>\n",
       "      <td>25.0</td>\n",
       "      <td>13.0</td>\n",
       "      <td>29.0</td>\n",
       "      <td>0</td>\n",
       "      <td>4.0</td>\n",
       "      <td>NaN</td>\n",
       "      <td>284.0</td>\n",
       "      <td>94107</td>\n",
       "    </tr>\n",
       "    <tr>\n",
       "      <th>4</th>\n",
       "      <td>9/2/2013</td>\n",
       "      <td>75.0</td>\n",
       "      <td>69.0</td>\n",
       "      <td>62.0</td>\n",
       "      <td>61.0</td>\n",
       "      <td>60.0</td>\n",
       "      <td>58.0</td>\n",
       "      <td>93.0</td>\n",
       "      <td>77.0</td>\n",
       "      <td>61.0</td>\n",
       "      <td>...</td>\n",
       "      <td>10.0</td>\n",
       "      <td>6.0</td>\n",
       "      <td>23.0</td>\n",
       "      <td>12.0</td>\n",
       "      <td>30.0</td>\n",
       "      <td>0</td>\n",
       "      <td>6.0</td>\n",
       "      <td>NaN</td>\n",
       "      <td>277.0</td>\n",
       "      <td>94107</td>\n",
       "    </tr>\n",
       "  </tbody>\n",
       "</table>\n",
       "<p>5 rows × 24 columns</p>\n",
       "</div>"
      ],
      "text/plain": [
       "        date  max_temperature_f  mean_temperature_f  min_temperature_f  \\\n",
       "0  8/29/2013               74.0                68.0               61.0   \n",
       "1  8/30/2013               78.0                69.0               60.0   \n",
       "2  8/31/2013               71.0                64.0               57.0   \n",
       "3   9/1/2013               74.0                66.0               58.0   \n",
       "4   9/2/2013               75.0                69.0               62.0   \n",
       "\n",
       "   max_dew_point_f  mean_dew_point_f  min_dew_point_f  max_humidity  \\\n",
       "0             61.0              58.0             56.0          93.0   \n",
       "1             61.0              58.0             56.0          90.0   \n",
       "2             57.0              56.0             54.0          93.0   \n",
       "3             60.0              56.0             53.0          87.0   \n",
       "4             61.0              60.0             58.0          93.0   \n",
       "\n",
       "   mean_humidity  min_humidity  ...  mean_visibility_miles  \\\n",
       "0           75.0          57.0  ...                   10.0   \n",
       "1           70.0          50.0  ...                   10.0   \n",
       "2           75.0          57.0  ...                   10.0   \n",
       "3           68.0          49.0  ...                   10.0   \n",
       "4           77.0          61.0  ...                   10.0   \n",
       "\n",
       "   min_visibility_miles  max_wind_Speed_mph  mean_wind_speed_mph  \\\n",
       "0                  10.0                23.0                 11.0   \n",
       "1                   7.0                29.0                 13.0   \n",
       "2                  10.0                26.0                 15.0   \n",
       "3                  10.0                25.0                 13.0   \n",
       "4                   6.0                23.0                 12.0   \n",
       "\n",
       "   max_gust_speed_mph  precipitation_inches  cloud_cover  events  \\\n",
       "0                28.0                     0          4.0     NaN   \n",
       "1                35.0                     0          2.0     NaN   \n",
       "2                31.0                     0          4.0     NaN   \n",
       "3                29.0                     0          4.0     NaN   \n",
       "4                30.0                     0          6.0     NaN   \n",
       "\n",
       "   wind_dir_degrees zip_code  \n",
       "0             286.0    94107  \n",
       "1             291.0    94107  \n",
       "2             284.0    94107  \n",
       "3             284.0    94107  \n",
       "4             277.0    94107  \n",
       "\n",
       "[5 rows x 24 columns]"
      ]
     },
     "execution_count": 143,
     "metadata": {},
     "output_type": "execute_result"
    }
   ],
   "source": [
    "weather_df.head()\n"
   ]
  },
  {
   "cell_type": "code",
   "execution_count": 144,
   "metadata": {},
   "outputs": [
    {
     "data": {
      "text/plain": [
       "(3665, 24)"
      ]
     },
     "execution_count": 144,
     "metadata": {},
     "output_type": "execute_result"
    }
   ],
   "source": [
    "weather_df.shape"
   ]
  },
  {
   "cell_type": "code",
   "execution_count": 145,
   "metadata": {},
   "outputs": [
    {
     "data": {
      "text/plain": [
       "array(['0', '0.23', 'T', '0.01', '0.28', '0.63', '0.29', '0.06', '0.85',\n",
       "       '0.09', '0.64', '0.42', '0.35', '0.43', '0.22', '0.74', '0.03',\n",
       "       '0.12', '0.16', '0.49', '0.17', '0.08', '0.04', '0.53', '0.07',\n",
       "       '0.02', '0.83', '1.06', '1.71', '0.37', '0.27', '0.45', '0.78',\n",
       "       '0.88', '0.66', '0.47', '0.1', '0.61', '0.14', '0.05', '0.68',\n",
       "       '0.97', '0.26', '0.15', '0.87', '0.57', '0.69', '0.32', '0.21',\n",
       "       '0.24', '0.52', '0.36', '0.33', '0.25', '0.11', '0.2', '1.18',\n",
       "       '1.43', '3.12', '0.48', '0.19', '1.09', '0.65', '0.13', '0.91',\n",
       "       '0.99', '0.18', '0.4', '1.07', nan, '0.41', '0.34', '1.25', '1.85',\n",
       "       '3.36', '0.71', '1.3', '0.72', '0.6', '0.51', '1.2', '1.28',\n",
       "       '3.23', '0.55', '1.26', '0.39'], dtype=object)"
      ]
     },
     "execution_count": 145,
     "metadata": {},
     "output_type": "execute_result"
    }
   ],
   "source": [
    "weather_df['precipitation_inches'].unique()  \n",
    "#there is a 'T'; not all values are numberic"
   ]
  },
  {
   "cell_type": "code",
   "execution_count": 146,
   "metadata": {},
   "outputs": [],
   "source": [
    "# Replace non numeric with mean values"
   ]
  },
  {
   "cell_type": "code",
   "execution_count": 147,
   "metadata": {},
   "outputs": [],
   "source": [
    "weather_df.precipitation_inches = np.where(weather_df.precipitation_inches == 'T', np.nan, weather_df.precipitation_inches)\n",
    "weather_df.precipitation_inches = weather_df.precipitation_inches.astype(float)\n",
    "weather_df.precipitation_inches = weather_df.precipitation_inches.fillna(np.nanmean(weather_df.precipitation_inches))"
   ]
  },
  {
   "cell_type": "code",
   "execution_count": 148,
   "metadata": {},
   "outputs": [
    {
     "data": {
      "text/plain": [
       "array([0.        , 0.23      , 0.02094291, 0.01      , 0.28      ,\n",
       "       0.63      , 0.29      , 0.06      , 0.85      , 0.09      ,\n",
       "       0.64      , 0.42      , 0.35      , 0.43      , 0.22      ,\n",
       "       0.74      , 0.03      , 0.12      , 0.16      , 0.49      ,\n",
       "       0.17      , 0.08      , 0.04      , 0.53      , 0.07      ,\n",
       "       0.02      , 0.83      , 1.06      , 1.71      , 0.37      ,\n",
       "       0.27      , 0.45      , 0.78      , 0.88      , 0.66      ,\n",
       "       0.47      , 0.1       , 0.61      , 0.14      , 0.05      ,\n",
       "       0.68      , 0.97      , 0.26      , 0.15      , 0.87      ,\n",
       "       0.57      , 0.69      , 0.32      , 0.21      , 0.24      ,\n",
       "       0.52      , 0.36      , 0.33      , 0.25      , 0.11      ,\n",
       "       0.2       , 1.18      , 1.43      , 3.12      , 0.48      ,\n",
       "       0.19      , 1.09      , 0.65      , 0.13      , 0.91      ,\n",
       "       0.99      , 0.18      , 0.4       , 1.07      , 0.41      ,\n",
       "       0.34      , 1.25      , 1.85      , 3.36      , 0.71      ,\n",
       "       1.3       , 0.72      , 0.6       , 0.51      , 1.2       ,\n",
       "       1.28      , 3.23      , 0.55      , 1.26      , 0.39      ])"
      ]
     },
     "execution_count": 148,
     "metadata": {},
     "output_type": "execute_result"
    }
   ],
   "source": [
    "weather_df['precipitation_inches'].unique()  "
   ]
  },
  {
   "cell_type": "code",
   "execution_count": null,
   "metadata": {},
   "outputs": [],
   "source": []
  },
  {
   "cell_type": "code",
   "execution_count": null,
   "metadata": {},
   "outputs": [],
   "source": []
  },
  {
   "cell_type": "code",
   "execution_count": 149,
   "metadata": {},
   "outputs": [
    {
     "name": "stderr",
     "output_type": "stream",
     "text": [
      "/Users/janellaslaga/anaconda3/lib/python3.7/site-packages/ipykernel_launcher.py:4: SettingWithCopyWarning: \n",
      "A value is trying to be set on a copy of a slice from a DataFrame.\n",
      "Try using .loc[row_indexer,col_indexer] = value instead\n",
      "\n",
      "See the caveats in the documentation: http://pandas.pydata.org/pandas-docs/stable/indexing.html#indexing-view-versus-copy\n",
      "  after removing the cwd from sys.path.\n",
      "/Users/janellaslaga/anaconda3/lib/python3.7/site-packages/ipykernel_launcher.py:5: SettingWithCopyWarning: \n",
      "A value is trying to be set on a copy of a slice from a DataFrame.\n",
      "Try using .loc[row_indexer,col_indexer] = value instead\n",
      "\n",
      "See the caveats in the documentation: http://pandas.pydata.org/pandas-docs/stable/indexing.html#indexing-view-versus-copy\n",
      "  \"\"\"\n"
     ]
    }
   ],
   "source": [
    "### Link trip data to weather data\n",
    "sf_trips_clean = sf_trips.loc[sf_trips.duration < np.quantile(sf_trips.duration, 0.98)]\n",
    "\n",
    "sf_trips_clean['precipitation_inches'] = None\n",
    "sf_trips_clean['date'] = [str(value.date()) for value in sf_trips_clean['start_date']]\n",
    "\n",
    "for idx, row in weather_df[['date','precipitation_inches']].iterrows():\n",
    "    try:\n",
    "        float(row[1])\n",
    "        inches = row[1]\n",
    "    except:\n",
    "        continue\n",
    "    current_date = datetime.strptime(row[0],'%m/%d/%Y').strftime('%Y-%m-%d')\n",
    "    sf_trips_clean.loc[sf_trips_clean['date'] == current_date, 'precipitation_inches'] = inches\n",
    "\n"
   ]
  },
  {
   "cell_type": "code",
   "execution_count": 150,
   "metadata": {},
   "outputs": [
    {
     "data": {
      "text/plain": [
       "id                               int64\n",
       "duration                       float64\n",
       "start_date              datetime64[ns]\n",
       "start_station_name              object\n",
       "start_station_id                 int64\n",
       "end_date                datetime64[ns]\n",
       "end_station_name                object\n",
       "end_station_id                   int64\n",
       "bike_id                          int64\n",
       "subscription_type               object\n",
       "zip_code                        object\n",
       "weekday                          int64\n",
       "DOW                             object\n",
       "precipitation_inches            object\n",
       "date                            object\n",
       "dtype: object"
      ]
     },
     "execution_count": 150,
     "metadata": {},
     "output_type": "execute_result"
    }
   ],
   "source": [
    "sf_trips_clean.dtypes"
   ]
  },
  {
   "cell_type": "code",
   "execution_count": 52,
   "metadata": {},
   "outputs": [
    {
     "data": {
      "text/plain": [
       "LinregressResult(slope=-0.00017036035299038425, intercept=0.01730512763236402, rvalue=-0.015476980905943842, pvalue=1.1116574522257582e-32, stderr=1.4308852356751407e-05)"
      ]
     },
     "execution_count": 52,
     "metadata": {},
     "output_type": "execute_result"
    }
   ],
   "source": [
    "x = sf_trips_clean['duration']\n",
    "y = sf_trips_clean['precipitation_inches'].astype('float')\n",
    "sp.linregress(x,y)\n"
   ]
  },
  {
   "cell_type": "code",
   "execution_count": null,
   "metadata": {},
   "outputs": [],
   "source": []
  },
  {
   "cell_type": "code",
   "execution_count": 53,
   "metadata": {},
   "outputs": [
    {
     "name": "stderr",
     "output_type": "stream",
     "text": [
      "/Users/janellaslaga/anaconda3/lib/python3.7/site-packages/ipykernel_launcher.py:3: SettingWithCopyWarning: \n",
      "A value is trying to be set on a copy of a slice from a DataFrame.\n",
      "Try using .loc[row_indexer,col_indexer] = value instead\n",
      "\n",
      "See the caveats in the documentation: http://pandas.pydata.org/pandas-docs/stable/indexing.html#indexing-view-versus-copy\n",
      "  This is separate from the ipykernel package so we can avoid doing imports until\n",
      "/Users/janellaslaga/anaconda3/lib/python3.7/site-packages/ipykernel_launcher.py:4: SettingWithCopyWarning: \n",
      "A value is trying to be set on a copy of a slice from a DataFrame.\n",
      "Try using .loc[row_indexer,col_indexer] = value instead\n",
      "\n",
      "See the caveats in the documentation: http://pandas.pydata.org/pandas-docs/stable/indexing.html#indexing-view-versus-copy\n",
      "  after removing the cwd from sys.path.\n"
     ]
    }
   ],
   "source": [
    "sf_trips_clean = sf_trips.loc[sf_trips.duration < np.quantile(sf_trips.duration, 0.98)]\n",
    "\n",
    "sf_trips_clean['mean_temperature_f'] = None\n",
    "sf_trips_clean['date'] = [str(value.date()) for value in sf_trips_clean['start_date']]\n",
    "\n",
    "for idx, row in weather_df[['date','mean_temperature_f']].iterrows():\n",
    "    try:\n",
    "        float(row[1])\n",
    "        temperature = row[1]\n",
    "    except:\n",
    "        continue\n",
    "    current_date = datetime.strptime(row[0],'%m/%d/%Y').strftime('%Y-%m-%d')\n",
    "    sf_trips_clean.loc[sf_trips_clean['date'] == current_date, 'mean_temperature_f'] = temperature\n",
    "\n"
   ]
  },
  {
   "cell_type": "code",
   "execution_count": null,
   "metadata": {},
   "outputs": [],
   "source": [
    "### Analyze weather and trips\n",
    "\n",
    "x = sf_trips_clean['duration']\n",
    "y = sf_trips_clean['mean_temperature_f'].astype('float')\n",
    "sp.linregress(x,y)\n"
   ]
  },
  {
   "cell_type": "code",
   "execution_count": null,
   "metadata": {},
   "outputs": [],
   "source": []
  },
  {
   "cell_type": "code",
   "execution_count": 139,
   "metadata": {},
   "outputs": [],
   "source": [
    "My recommendations from looking at the data would be that in order to find a better or any correlation between data\n",
    "and it's afffect on bike usage, better instrumentation and data capture would be needed. The number of unique data\n",
    "points for both temp and precipitation seem to be unusually small. One would expect over 10 years to see more \n",
    "continuous data points. ie \n",
    "\n"
   ]
  },
  {
   "cell_type": "code",
   "execution_count": null,
   "metadata": {},
   "outputs": [],
   "source": []
  },
  {
   "cell_type": "code",
   "execution_count": null,
   "metadata": {},
   "outputs": [],
   "source": []
  },
  {
   "cell_type": "code",
   "execution_count": null,
   "metadata": {},
   "outputs": [],
   "source": []
  },
  {
   "cell_type": "code",
   "execution_count": null,
   "metadata": {},
   "outputs": [],
   "source": []
  },
  {
   "cell_type": "code",
   "execution_count": null,
   "metadata": {},
   "outputs": [],
   "source": []
  },
  {
   "cell_type": "code",
   "execution_count": null,
   "metadata": {},
   "outputs": [],
   "source": []
  },
  {
   "cell_type": "code",
   "execution_count": null,
   "metadata": {},
   "outputs": [],
   "source": []
  },
  {
   "cell_type": "code",
   "execution_count": null,
   "metadata": {},
   "outputs": [],
   "source": []
  },
  {
   "cell_type": "code",
   "execution_count": null,
   "metadata": {},
   "outputs": [],
   "source": []
  },
  {
   "cell_type": "code",
   "execution_count": null,
   "metadata": {},
   "outputs": [],
   "source": []
  },
  {
   "cell_type": "code",
   "execution_count": null,
   "metadata": {},
   "outputs": [],
   "source": []
  },
  {
   "cell_type": "code",
   "execution_count": null,
   "metadata": {},
   "outputs": [],
   "source": []
  },
  {
   "cell_type": "code",
   "execution_count": null,
   "metadata": {},
   "outputs": [],
   "source": []
  },
  {
   "cell_type": "code",
   "execution_count": null,
   "metadata": {},
   "outputs": [],
   "source": []
  },
  {
   "cell_type": "code",
   "execution_count": null,
   "metadata": {},
   "outputs": [],
   "source": []
  },
  {
   "cell_type": "code",
   "execution_count": 45,
   "metadata": {},
   "outputs": [],
   "source": [
    "# # iterate to take date and precip info\n",
    "# sf_trips_weather = sf_trips_clean.copy()\n",
    "\n",
    "# sf_trips_weather['precipitation'] = None\n",
    "\n",
    "# for idx, row in weather_df_clean[['date','precipitation_inches']].iterrows():\n",
    "#     weather_date = pd.to_datetime(row[0]).date()\n",
    "#     precipitation = row[1]\n",
    "#     sf_trips_weather.loc[str(sf_trips_weather['start_date']).split(\" \")[0] == str(weather_date), 'precipitation'] = precipitation\n",
    "    \n"
   ]
  },
  {
   "cell_type": "code",
   "execution_count": 188,
   "metadata": {},
   "outputs": [
    {
     "data": {
      "text/plain": [
       "id                             int64\n",
       "duration                     float64\n",
       "start_date            datetime64[ns]\n",
       "start_station_name            object\n",
       "start_station_id               int64\n",
       "end_date              datetime64[ns]\n",
       "end_station_name              object\n",
       "end_station_id                 int64\n",
       "bike_id                        int64\n",
       "subscription_type             object\n",
       "zip_code                      object\n",
       "weekday                        int64\n",
       "DOW                           object\n",
       "preciptation                  object\n",
       "precipitation                 object\n",
       "dtype: object"
      ]
     },
     "execution_count": 188,
     "metadata": {},
     "output_type": "execute_result"
    }
   ],
   "source": [
    "sf_trips_clean.dtypes"
   ]
  },
  {
   "cell_type": "code",
   "execution_count": null,
   "metadata": {},
   "outputs": [],
   "source": []
  },
  {
   "cell_type": "code",
   "execution_count": null,
   "metadata": {},
   "outputs": [],
   "source": []
  },
  {
   "cell_type": "code",
   "execution_count": null,
   "metadata": {},
   "outputs": [],
   "source": [
    "# ### Link trip data to weather data\n",
    "# sf_trips_clean = sf_trips.loc[sf_trips.duration < np.quantile(sf_trips.duration, 0.98)]\n",
    "# sf_trips_clean['mean_humidity'] = None\n",
    "# sf_trips_clean['date'] = [str(value.date()) for value in sf_trips_clean['start_date']]\n",
    "\n",
    "# for idx, row in weather_df[['date','mean_humidity']].iterrows():\n",
    "#     try:\n",
    "#         float(row[1])\n",
    "#         temperature = row[1]\n",
    "#     except:\n",
    "#         continue\n",
    "#     current_date = datetime.strptime(row[0],'%m/%d/%Y').strftime('%Y-%m-%d')\n",
    "#     sf_trips_clean.loc[sf_trips_clean['date'] == current_date, 'mean_humidity'] = temperature\n",
    "\n",
    "\n",
    "\n",
    "# ### Analyze weather and trips\n",
    "# from scipy import stats as sp\n",
    "\n",
    "# x = sf_trips_clean['duration']\n",
    "# y = sf_trips_clean['mean_temperature_f'].astype('float')\n",
    "# # x = sf_trips['mean_humidity'].astype('float')\n",
    "# # x = sf_trips['precipitation_inches'].astype('float')\n",
    "# sp.linregress(x,y)\n",
    "\n",
    "# # Visualize weather and trips\n",
    "# fit = np.polyfit(x,y,1)\n",
    "# fit_fn = np.poly1d(fit)\n",
    "# # fit_fn(x)\n",
    "\n",
    "# fig = plt.figure()\n",
    "# ax = fig.add_subplot(111)\n",
    "# ax.scatter(x,y,alpha=0.4,marker='.')\n",
    "# plt.plot(x,fit_fn(x),'r-')\n",
    "# plt.show()\n"
   ]
  },
  {
   "cell_type": "code",
   "execution_count": null,
   "metadata": {},
   "outputs": [],
   "source": []
  },
  {
   "cell_type": "code",
   "execution_count": null,
   "metadata": {},
   "outputs": [],
   "source": []
  },
  {
   "cell_type": "code",
   "execution_count": null,
   "metadata": {},
   "outputs": [],
   "source": [
    "#how much is temp affecting bike usage - rain affects duration"
   ]
  },
  {
   "cell_type": "code",
   "execution_count": null,
   "metadata": {},
   "outputs": [],
   "source": [
    "1. Clean up and Data Exploration:\n",
    "    box plots of clean up of outliers\n",
    "\n",
    "2. Data Story:\n",
    "    Ask the following questions and look for the answers using code and plots:\n",
    "        Can you count something interesting?\n",
    "        Can you find trends (e.g. high, low, increasing, decreasing, anomalies)?\n",
    "        Can you make a bar plot or a histogram?\n",
    "        Can you compare two related quantities?\n",
    "        Can you make a scatterplot?\n",
    "        Can you make a time-series plot?\n",
    "    Looking at the plots, what are some insights you can make? Do you see any correlations? Is there a hypothesis you’d like to investigate further? What other questions do the insights lead you to ask?\n",
    "    Now that you’ve asked questions, hopefully you’ve found some interesting insights. Is there a narrative or a way of presenting the insights using text and plots that tells a compelling story? What are some other trends/relationships you think will make the story more complete?\n",
    "    \n",
    "3.  Statistics:   \n",
    "    The questions you asked\n",
    "    The trends you investigated\n",
    "    The resulting visualizations and conclusions\n",
    "\n",
    "    \n",
    "    How do you create a data story? You’ve learned the basics, but the information is probably a bit abstract at this point. Keep in mind that storytelling is an art, so you have to get your imagination bubbling. In this project, you’ll learn some pointers to get those creative juices flowing. In the following sections, we’ll work step-by-step to create your first data story. \n",
    "\n",
    "Steps:\n",
    "\n",
    "    Ask the following questions and look for the answers using code and plots:\n",
    "        Can you count something interesting?\n",
    "        Can you find trends (e.g. high, low, increasing, decreasing, anomalies)?\n",
    "        Can you make a bar plot or a histogram?\n",
    "        Can you compare two related quantities?\n",
    "        Can you make a scatterplot?\n",
    "        Can you make a time-series plot?\n",
    "    Looking at the plots, what are some insights you can make? Do you see any correlations? Is there a hypothesis you’d like to investigate further? What other questions do the insights lead you to ask?\n",
    "    Now that you’ve asked questions, hopefully you’ve found some interesting insights. Is there a narrative or a way of presenting the insights using text and plots that tells a compelling story? What are some other trends/relationships you think will make the story more complete?\n",
    "\n",
    "Submission: Submit links to a GitHub repository containing a Jupyter Notebook. The Notebook should contain:\n",
    "\n",
    "    The questions you asked\n",
    "    The trends you investigated\n",
    "    The resulting visualizations and conclusions\n",
    "\n",
    "You will be evaluated using this rubric.\n",
    "\n",
    "These results will go into your final portfolio and presentation. Organize your work as you go along to make it easier to compile later. Create slides and/or a presentation (.ppt) about your emerging data story.   \n",
    " \n",
    "In case the dataset is too large to commit to GitHub, please include a link to the dataset inside the Jupyter Notebook."
   ]
  }
 ],
 "metadata": {
  "kernelspec": {
   "display_name": "Python 3",
   "language": "python",
   "name": "python3"
  },
  "language_info": {
   "codemirror_mode": {
    "name": "ipython",
    "version": 3
   },
   "file_extension": ".py",
   "mimetype": "text/x-python",
   "name": "python",
   "nbconvert_exporter": "python",
   "pygments_lexer": "ipython3",
   "version": "3.7.3"
  }
 },
 "nbformat": 4,
 "nbformat_minor": 2
}
