{
 "cells": [
  {
   "cell_type": "code",
   "execution_count": 1,
   "metadata": {},
   "outputs": [],
   "source": [
    "import pandas as pd\n",
    "import numpy as np\n",
    "\n",
    "from sklearn.model_selection import train_test_split\n",
    "from sklearn.preprocessing import StandardScaler, LabelEncoder\n",
    "from sklearn.pipeline import Pipeline\n",
    "from feature_engine import outlier_removers as outr\n",
    "from feature_engine.outlier_removers import Winsorizer\n",
    "from feature_engine.categorical_encoders import OneHotCategoricalEncoder, RareLabelCategoricalEncoder\n",
    "\n",
    "import warnings\n",
    "warnings.filterwarnings('ignore')\n",
    "\n",
    "%matplotlib inline\n"
   ]
  },
  {
   "cell_type": "code",
   "execution_count": null,
   "metadata": {},
   "outputs": [],
   "source": []
  },
  {
   "cell_type": "markdown",
   "metadata": {},
   "source": [
    "## Import Data"
   ]
  },
  {
   "cell_type": "code",
   "execution_count": 2,
   "metadata": {},
   "outputs": [
    {
     "data": {
      "text/plain": [
       "(2260668, 145)"
      ]
     },
     "execution_count": 2,
     "metadata": {},
     "output_type": "execute_result"
    }
   ],
   "source": [
    "# read in loan data\n",
    "df = pd.read_csv('Data/loan.csv')\n",
    "df.shape"
   ]
  },
  {
   "cell_type": "code",
   "execution_count": 3,
   "metadata": {},
   "outputs": [],
   "source": [
    "# read in column names and descriptions\n",
    "dictionary = pd.read_csv('Data/LCDataDictionary.csv', names=['type','feature','description'])\n",
    "\n",
    "# remove error in feature name\n",
    "dictionary['feature'].replace('total_rev_hi_lim \\xa0','total_rev_hi_lim',inplace=True)\n",
    "\n",
    "\n",
    "# create list of feature names to be used in df\n",
    "cols_keep= list(dictionary['feature'].values)"
   ]
  },
  {
   "cell_type": "code",
   "execution_count": 4,
   "metadata": {},
   "outputs": [
    {
     "data": {
      "text/plain": [
       "(2260668, 63)"
      ]
     },
     "execution_count": 4,
     "metadata": {},
     "output_type": "execute_result"
    }
   ],
   "source": [
    "df = df[cols_keep]\n",
    "# drop columns which have less than 65% available data\n",
    "df.dropna(axis=1, how='any', thresh=int(0.65*len(df)), inplace=True)\n",
    "df.shape"
   ]
  },
  {
   "cell_type": "markdown",
   "metadata": {},
   "source": [
    "Original df:  (2260668, 145)\n",
    "Dropped <65% data:  (2260668,  63)\n"
   ]
  },
  {
   "cell_type": "code",
   "execution_count": null,
   "metadata": {},
   "outputs": [],
   "source": []
  },
  {
   "cell_type": "code",
   "execution_count": null,
   "metadata": {},
   "outputs": [],
   "source": []
  },
  {
   "cell_type": "markdown",
   "metadata": {},
   "source": [
    "## Manipulating Labels"
   ]
  },
  {
   "cell_type": "markdown",
   "metadata": {},
   "source": [
    "For our model we're predicting default rate. Only examining completed loans - loan_status equals charged off or fully paid\n"
   ]
  },
  {
   "cell_type": "code",
   "execution_count": 5,
   "metadata": {},
   "outputs": [
    {
     "data": {
      "text/plain": [
       "array(['Current', 'Fully Paid', 'Late (31-120 days)', 'In Grace Period',\n",
       "       'Charged Off', 'Late (16-30 days)', 'Default',\n",
       "       'Does not meet the credit policy. Status:Fully Paid',\n",
       "       'Does not meet the credit policy. Status:Charged Off'],\n",
       "      dtype=object)"
      ]
     },
     "execution_count": 5,
     "metadata": {},
     "output_type": "execute_result"
    }
   ],
   "source": [
    "df.loan_status.unique()"
   ]
  },
  {
   "cell_type": "code",
   "execution_count": 6,
   "metadata": {},
   "outputs": [
    {
     "data": {
      "text/plain": [
       "Fully Paid     0.799124\n",
       "Charged Off    0.200876\n",
       "Name: loan_status, dtype: float64"
      ]
     },
     "execution_count": 6,
     "metadata": {},
     "output_type": "execute_result"
    }
   ],
   "source": [
    "labels_to_keep = ['Fully Paid', 'Charged Off', 'Does not meet the credit policy. Status:Fully Paid',\n",
    "       'Does not meet the credit policy. Status:Charged Off']\n",
    "df = df[df.loan_status.isin(labels_to_keep)]\n",
    "\n",
    "status_dict = {'Does not meet the credit policy. Status:Fully Paid':'Fully Paid',\n",
    "        'Does not meet the credit policy. Status:Charged Off':'Charged Off'}\n",
    "\n",
    "df['loan_status'].replace(status_dict, inplace=True)\n",
    "df['loan_status'].value_counts(normalize=True)"
   ]
  },
  {
   "cell_type": "code",
   "execution_count": 7,
   "metadata": {},
   "outputs": [
    {
     "name": "stdout",
     "output_type": "stream",
     "text": [
      "Dropped policy_code\n",
      "Dropped pymnt_plan\n",
      "(1306356, 61)\n"
     ]
    }
   ],
   "source": [
    "# delete all the columns that contain a single unique value\n",
    "for col in df.columns:\n",
    "    if len(df[col].unique()) == 1:\n",
    "        print(\"Dropped \" + col)\n",
    "        df.drop(col, inplace=True, axis=1)\n",
    "print(df.shape)"
   ]
  },
  {
   "cell_type": "code",
   "execution_count": null,
   "metadata": {},
   "outputs": [],
   "source": []
  },
  {
   "cell_type": "markdown",
   "metadata": {},
   "source": [
    "## Split data into train and test "
   ]
  },
  {
   "cell_type": "code",
   "execution_count": 8,
   "metadata": {},
   "outputs": [
    {
     "data": {
      "text/html": [
       "<div>\n",
       "<style scoped>\n",
       "    .dataframe tbody tr th:only-of-type {\n",
       "        vertical-align: middle;\n",
       "    }\n",
       "\n",
       "    .dataframe tbody tr th {\n",
       "        vertical-align: top;\n",
       "    }\n",
       "\n",
       "    .dataframe thead th {\n",
       "        text-align: right;\n",
       "    }\n",
       "</style>\n",
       "<table border=\"1\" class=\"dataframe\">\n",
       "  <thead>\n",
       "    <tr style=\"text-align: right;\">\n",
       "      <th></th>\n",
       "      <th>acc_now_delinq</th>\n",
       "      <th>annual_inc</th>\n",
       "      <th>avg_cur_bal</th>\n",
       "      <th>bc_open_to_buy</th>\n",
       "      <th>bc_util</th>\n",
       "      <th>delinq_2yrs</th>\n",
       "      <th>delinq_amnt</th>\n",
       "      <th>dti</th>\n",
       "      <th>funded_amnt</th>\n",
       "      <th>funded_amnt_inv</th>\n",
       "      <th>...</th>\n",
       "      <th>home_ownership</th>\n",
       "      <th>initial_list_status</th>\n",
       "      <th>purpose</th>\n",
       "      <th>sub_grade</th>\n",
       "      <th>term</th>\n",
       "      <th>title</th>\n",
       "      <th>verification_status</th>\n",
       "      <th>hardship_flag</th>\n",
       "      <th>disbursement_method</th>\n",
       "      <th>debt_settlement_flag</th>\n",
       "    </tr>\n",
       "  </thead>\n",
       "  <tbody>\n",
       "    <tr>\n",
       "      <th>2086726</th>\n",
       "      <td>0.0</td>\n",
       "      <td>60000.0</td>\n",
       "      <td>1122.0</td>\n",
       "      <td>20411.0</td>\n",
       "      <td>17.0</td>\n",
       "      <td>0.0</td>\n",
       "      <td>0.0</td>\n",
       "      <td>13.70</td>\n",
       "      <td>16000</td>\n",
       "      <td>16000.0</td>\n",
       "      <td>...</td>\n",
       "      <td>MORTGAGE</td>\n",
       "      <td>w</td>\n",
       "      <td>home_improvement</td>\n",
       "      <td>F2</td>\n",
       "      <td>60 months</td>\n",
       "      <td>Home improvement</td>\n",
       "      <td>Source Verified</td>\n",
       "      <td>N</td>\n",
       "      <td>Cash</td>\n",
       "      <td>N</td>\n",
       "    </tr>\n",
       "    <tr>\n",
       "      <th>787320</th>\n",
       "      <td>0.0</td>\n",
       "      <td>98000.0</td>\n",
       "      <td>3660.0</td>\n",
       "      <td>7743.0</td>\n",
       "      <td>35.5</td>\n",
       "      <td>1.0</td>\n",
       "      <td>0.0</td>\n",
       "      <td>6.93</td>\n",
       "      <td>10000</td>\n",
       "      <td>10000.0</td>\n",
       "      <td>...</td>\n",
       "      <td>RENT</td>\n",
       "      <td>w</td>\n",
       "      <td>debt_consolidation</td>\n",
       "      <td>B2</td>\n",
       "      <td>60 months</td>\n",
       "      <td>NaN</td>\n",
       "      <td>Not Verified</td>\n",
       "      <td>N</td>\n",
       "      <td>Cash</td>\n",
       "      <td>N</td>\n",
       "    </tr>\n",
       "    <tr>\n",
       "      <th>1680980</th>\n",
       "      <td>0.0</td>\n",
       "      <td>55000.0</td>\n",
       "      <td>24630.0</td>\n",
       "      <td>19.0</td>\n",
       "      <td>99.4</td>\n",
       "      <td>1.0</td>\n",
       "      <td>0.0</td>\n",
       "      <td>16.78</td>\n",
       "      <td>14550</td>\n",
       "      <td>14550.0</td>\n",
       "      <td>...</td>\n",
       "      <td>MORTGAGE</td>\n",
       "      <td>f</td>\n",
       "      <td>debt_consolidation</td>\n",
       "      <td>D4</td>\n",
       "      <td>60 months</td>\n",
       "      <td>Debit Loan</td>\n",
       "      <td>Source Verified</td>\n",
       "      <td>N</td>\n",
       "      <td>Cash</td>\n",
       "      <td>N</td>\n",
       "    </tr>\n",
       "    <tr>\n",
       "      <th>1240845</th>\n",
       "      <td>0.0</td>\n",
       "      <td>43500.0</td>\n",
       "      <td>25888.0</td>\n",
       "      <td>170.0</td>\n",
       "      <td>96.5</td>\n",
       "      <td>0.0</td>\n",
       "      <td>0.0</td>\n",
       "      <td>16.00</td>\n",
       "      <td>12000</td>\n",
       "      <td>12000.0</td>\n",
       "      <td>...</td>\n",
       "      <td>MORTGAGE</td>\n",
       "      <td>w</td>\n",
       "      <td>debt_consolidation</td>\n",
       "      <td>D4</td>\n",
       "      <td>60 months</td>\n",
       "      <td>Debt consolidation</td>\n",
       "      <td>Not Verified</td>\n",
       "      <td>N</td>\n",
       "      <td>Cash</td>\n",
       "      <td>N</td>\n",
       "    </tr>\n",
       "    <tr>\n",
       "      <th>1883061</th>\n",
       "      <td>0.0</td>\n",
       "      <td>40000.0</td>\n",
       "      <td>1320.0</td>\n",
       "      <td>1221.0</td>\n",
       "      <td>71.6</td>\n",
       "      <td>0.0</td>\n",
       "      <td>0.0</td>\n",
       "      <td>12.34</td>\n",
       "      <td>5600</td>\n",
       "      <td>5600.0</td>\n",
       "      <td>...</td>\n",
       "      <td>RENT</td>\n",
       "      <td>f</td>\n",
       "      <td>credit_card</td>\n",
       "      <td>B5</td>\n",
       "      <td>36 months</td>\n",
       "      <td>Credit card refinancing</td>\n",
       "      <td>Not Verified</td>\n",
       "      <td>N</td>\n",
       "      <td>Cash</td>\n",
       "      <td>N</td>\n",
       "    </tr>\n",
       "  </tbody>\n",
       "</table>\n",
       "<p>5 rows × 60 columns</p>\n",
       "</div>"
      ],
      "text/plain": [
       "         acc_now_delinq  annual_inc  avg_cur_bal  bc_open_to_buy  bc_util  \\\n",
       "2086726             0.0     60000.0       1122.0         20411.0     17.0   \n",
       "787320              0.0     98000.0       3660.0          7743.0     35.5   \n",
       "1680980             0.0     55000.0      24630.0            19.0     99.4   \n",
       "1240845             0.0     43500.0      25888.0           170.0     96.5   \n",
       "1883061             0.0     40000.0       1320.0          1221.0     71.6   \n",
       "\n",
       "         delinq_2yrs  delinq_amnt    dti  funded_amnt  funded_amnt_inv  ...  \\\n",
       "2086726          0.0          0.0  13.70        16000          16000.0  ...   \n",
       "787320           1.0          0.0   6.93        10000          10000.0  ...   \n",
       "1680980          1.0          0.0  16.78        14550          14550.0  ...   \n",
       "1240845          0.0          0.0  16.00        12000          12000.0  ...   \n",
       "1883061          0.0          0.0  12.34         5600           5600.0  ...   \n",
       "\n",
       "         home_ownership  initial_list_status             purpose  sub_grade  \\\n",
       "2086726        MORTGAGE                    w    home_improvement         F2   \n",
       "787320             RENT                    w  debt_consolidation         B2   \n",
       "1680980        MORTGAGE                    f  debt_consolidation         D4   \n",
       "1240845        MORTGAGE                    w  debt_consolidation         D4   \n",
       "1883061            RENT                    f         credit_card         B5   \n",
       "\n",
       "               term                    title  verification_status  \\\n",
       "2086726   60 months         Home improvement      Source Verified   \n",
       "787320    60 months                      NaN         Not Verified   \n",
       "1680980   60 months               Debit Loan      Source Verified   \n",
       "1240845   60 months       Debt consolidation         Not Verified   \n",
       "1883061   36 months  Credit card refinancing         Not Verified   \n",
       "\n",
       "         hardship_flag  disbursement_method  debt_settlement_flag  \n",
       "2086726              N                 Cash                     N  \n",
       "787320               N                 Cash                     N  \n",
       "1680980              N                 Cash                     N  \n",
       "1240845              N                 Cash                     N  \n",
       "1883061              N                 Cash                     N  \n",
       "\n",
       "[5 rows x 60 columns]"
      ]
     },
     "execution_count": 8,
     "metadata": {},
     "output_type": "execute_result"
    }
   ],
   "source": [
    "X = df.drop(columns = 'loan_status')\n",
    "y = df.loan_status.values.ravel()\n",
    "\n",
    "X_train, X_test, y_train, y_test = train_test_split(X, y, test_size=0.25, random_state=13, stratify=None)\n",
    "\n",
    "X_train.head()"
   ]
  },
  {
   "cell_type": "code",
   "execution_count": null,
   "metadata": {},
   "outputs": [],
   "source": []
  },
  {
   "cell_type": "markdown",
   "metadata": {},
   "source": [
    "## Dividing data into categorical and numerical parts¶\n"
   ]
  },
  {
   "cell_type": "code",
   "execution_count": 10,
   "metadata": {},
   "outputs": [
    {
     "data": {
      "text/plain": [
       "array([dtype('float64'), dtype('int64'), dtype('O')], dtype=object)"
      ]
     },
     "execution_count": 10,
     "metadata": {},
     "output_type": "execute_result"
    }
   ],
   "source": [
    "df.dtypes.unique()"
   ]
  },
  {
   "cell_type": "code",
   "execution_count": 11,
   "metadata": {},
   "outputs": [],
   "source": [
    "numerical_cols_df = X_train.select_dtypes(include=['float64','int64'])\n",
    "categorical_cols_df = X_train.select_dtypes(include='O')\n",
    "\n",
    "num_cols = numerical_cols_df.columns\n",
    "cat_cols = categorical_cols_df.columns"
   ]
  },
  {
   "cell_type": "code",
   "execution_count": 12,
   "metadata": {},
   "outputs": [
    {
     "data": {
      "text/plain": [
       "Index(['addr_state', 'emp_length', 'emp_title', 'grade', 'home_ownership',\n",
       "       'initial_list_status', 'purpose', 'sub_grade', 'term', 'title',\n",
       "       'verification_status', 'hardship_flag', 'disbursement_method',\n",
       "       'debt_settlement_flag'],\n",
       "      dtype='object')"
      ]
     },
     "execution_count": 12,
     "metadata": {},
     "output_type": "execute_result"
    }
   ],
   "source": [
    "cat_cols "
   ]
  },
  {
   "cell_type": "code",
   "execution_count": 13,
   "metadata": {},
   "outputs": [
    {
     "name": "stdout",
     "output_type": "stream",
     "text": [
      "Numerical data:\n",
      "(979767, 46)\n",
      "(326589, 46)\n",
      "\n",
      "Categorical data:\n",
      "(979767, 14)\n",
      "(326589, 14)\n"
     ]
    }
   ],
   "source": [
    "# Split train and test data into numerical and categorical\n",
    "num_X_train = X_train[num_cols]\n",
    "num_X_test = X_test[num_cols]\n",
    "\n",
    "cat_X_train = X_train[cat_cols]\n",
    "cat_X_test = X_test[cat_cols]\n",
    "\n",
    "\n",
    "print('Numerical data:')\n",
    "print(num_X_train.shape)\n",
    "print(num_X_test.shape)\n",
    "print('\\nCategorical data:')\n",
    "print(cat_X_train.shape)\n",
    "print(cat_X_test.shape)"
   ]
  },
  {
   "cell_type": "markdown",
   "metadata": {},
   "source": [
    "### Treat missing numerical data"
   ]
  },
  {
   "cell_type": "code",
   "execution_count": 14,
   "metadata": {
    "scrolled": true
   },
   "outputs": [
    {
     "data": {
      "text/plain": [
       "acc_now_delinq                    21\n",
       "annual_inc                         3\n",
       "avg_cur_bal                    52598\n",
       "bc_open_to_buy                 47416\n",
       "bc_util                        47960\n",
       "delinq_2yrs                       21\n",
       "delinq_amnt                       21\n",
       "dti                              235\n",
       "funded_amnt                        0\n",
       "funded_amnt_inv                    0\n",
       "inq_last_6mths                    22\n",
       "installment                        0\n",
       "int_rate                           0\n",
       "loan_amnt                          0\n",
       "mo_sin_old_il_acct             80090\n",
       "mo_sin_old_rev_tl_op           52582\n",
       "mo_sin_rcnt_rev_tl_op          52582\n",
       "mort_acc                       37435\n",
       "mths_since_recent_bc           46720\n",
       "mths_since_recent_inq         129082\n",
       "num_actv_bc_tl                 52581\n",
       "num_actv_rev_tl                52581\n",
       "num_bc_sats                    43881\n",
       "num_bc_tl                      52581\n",
       "num_il_tl                      52581\n",
       "num_op_rev_tl                  52581\n",
       "num_rev_accts                  52582\n",
       "num_rev_tl_bal_gt_0            52581\n",
       "num_sats                       43881\n",
       "num_tl_op_past_12m             52581\n",
       "open_acc                          21\n",
       "pct_tl_nvr_dlq                 52697\n",
       "percent_bc_gt_75               47727\n",
       "pub_rec                           21\n",
       "pub_rec_bankruptcies            1034\n",
       "revol_bal                          0\n",
       "revol_util                       622\n",
       "tot_coll_amt                   52581\n",
       "tot_cur_bal                    52581\n",
       "tot_hi_cred_lim                52581\n",
       "total_acc                         21\n",
       "total_bal_ex_mort              37435\n",
       "total_bc_limit                 37435\n",
       "total_il_high_credit_limit     52581\n",
       "total_rev_hi_lim               52581\n",
       "acc_open_past_24mths           37435\n",
       "dtype: int64"
      ]
     },
     "execution_count": 14,
     "metadata": {},
     "output_type": "execute_result"
    }
   ],
   "source": [
    "num_X_train.isnull().sum()"
   ]
  },
  {
   "cell_type": "code",
   "execution_count": 15,
   "metadata": {},
   "outputs": [],
   "source": [
    "medians = pd.Series(num_X_train.median())\n",
    "\n",
    "num_X_train = num_X_train.fillna(medians)\n",
    "num_X_test = num_X_test.fillna(medians)\n",
    "\n",
    "# num_X_train.isnull().sum()"
   ]
  },
  {
   "cell_type": "markdown",
   "metadata": {},
   "source": [
    "### Pipeline numerical features"
   ]
  },
  {
   "cell_type": "code",
   "execution_count": 16,
   "metadata": {},
   "outputs": [],
   "source": [
    "# Define pre-processors - remove outliers and scale\n",
    "capper = outr.Winsorizer(distribution='skewed', tail='both', fold=1.5)\n",
    "scaler = StandardScaler()\n",
    "\n",
    "# Create pipeline\n",
    "num_pipeline = Pipeline([('capper', capper, ('scaler', scaler))])\n",
    "\n",
    "num_X_train = num_pipeline.fit_transform(num_X_train)\n",
    "num_X_test = num_pipeline.transform(num_X_test)\n",
    "\n",
    "# Retrieve features names\n",
    "num_feature_cols = num_pipeline.named_steps['capper'].variables\n",
    "\n",
    "# Cast to pandas array df\n",
    "num_X_train = pd.DataFrame(num_X_train, columns=num_feature_cols)\n",
    "num_X_test = pd.DataFrame(num_X_test, columns=num_feature_cols)\n",
    "\n",
    "#num_X_train"
   ]
  },
  {
   "cell_type": "code",
   "execution_count": null,
   "metadata": {},
   "outputs": [],
   "source": []
  },
  {
   "cell_type": "code",
   "execution_count": null,
   "metadata": {},
   "outputs": [],
   "source": []
  },
  {
   "cell_type": "markdown",
   "metadata": {},
   "source": [
    "### Treat missing categorical data"
   ]
  },
  {
   "cell_type": "code",
   "execution_count": 17,
   "metadata": {},
   "outputs": [],
   "source": [
    "cat_X_train.fillna('other', inplace=True)\n",
    "cat_X_test.fillna('other', inplace=True)"
   ]
  },
  {
   "cell_type": "markdown",
   "metadata": {},
   "source": [
    "### Pipeline categorical features"
   ]
  },
  {
   "cell_type": "code",
   "execution_count": 18,
   "metadata": {},
   "outputs": [],
   "source": [
    "# Define pre-processors\n",
    "\n",
    "# Group frequency < 1% in category, “Rare”\n",
    "encoder = RareLabelCategoricalEncoder(tol=0.01)\n",
    "\n",
    "ohe = OneHotCategoricalEncoder() ####### top_categories=None,drop_last=True\n",
    "\n",
    "# Create pipeline\n",
    "cat_pipeline = Pipeline([('encoder', encoder, ('ohe', ohe))])\n",
    "\n",
    "cat_X_train = cat_pipeline.fit_transform(cat_X_train)\n",
    "cat_X_test = cat_pipeline.transform(cat_X_test)\n",
    "\n",
    "# Reset indices to merge\n",
    "cat_X_train.reset_index(drop=True, inplace=True)\n",
    "cat_X_test.reset_index(drop=True, inplace=True)"
   ]
  },
  {
   "cell_type": "code",
   "execution_count": 32,
   "metadata": {},
   "outputs": [
    {
     "data": {
      "text/html": [
       "<div>\n",
       "<style scoped>\n",
       "    .dataframe tbody tr th:only-of-type {\n",
       "        vertical-align: middle;\n",
       "    }\n",
       "\n",
       "    .dataframe tbody tr th {\n",
       "        vertical-align: top;\n",
       "    }\n",
       "\n",
       "    .dataframe thead th {\n",
       "        text-align: right;\n",
       "    }\n",
       "</style>\n",
       "<table border=\"1\" class=\"dataframe\">\n",
       "  <thead>\n",
       "    <tr style=\"text-align: right;\">\n",
       "      <th></th>\n",
       "      <th>addr_state_NY</th>\n",
       "      <th>addr_state_Rare</th>\n",
       "      <th>addr_state_CA</th>\n",
       "      <th>addr_state_FL</th>\n",
       "      <th>addr_state_TX</th>\n",
       "      <th>emp_length_other</th>\n",
       "      <th>emp_length_2 years</th>\n",
       "      <th>emp_length_5 years</th>\n",
       "      <th>emp_length_Rare</th>\n",
       "      <th>emp_length_10+ years</th>\n",
       "      <th>...</th>\n",
       "      <th>title_Credit card refinancing</th>\n",
       "      <th>verification_status_Source Verified</th>\n",
       "      <th>verification_status_Not Verified</th>\n",
       "      <th>verification_status_Verified</th>\n",
       "      <th>hardship_flag_N</th>\n",
       "      <th>hardship_flag_Y</th>\n",
       "      <th>disbursement_method_Cash</th>\n",
       "      <th>disbursement_method_DirectPay</th>\n",
       "      <th>debt_settlement_flag_N</th>\n",
       "      <th>debt_settlement_flag_Y</th>\n",
       "    </tr>\n",
       "  </thead>\n",
       "  <tbody>\n",
       "    <tr>\n",
       "      <th>count</th>\n",
       "      <td>979767.000000</td>\n",
       "      <td>979767.000000</td>\n",
       "      <td>979767.000000</td>\n",
       "      <td>979767.000000</td>\n",
       "      <td>979767.000000</td>\n",
       "      <td>979767.000000</td>\n",
       "      <td>979767.000000</td>\n",
       "      <td>979767.000000</td>\n",
       "      <td>979767.000000</td>\n",
       "      <td>979767.000000</td>\n",
       "      <td>...</td>\n",
       "      <td>979767.000000</td>\n",
       "      <td>979767.000000</td>\n",
       "      <td>979767.000000</td>\n",
       "      <td>979767.000000</td>\n",
       "      <td>979767.000000</td>\n",
       "      <td>979767.000000</td>\n",
       "      <td>979767.000000</td>\n",
       "      <td>979767.000000</td>\n",
       "      <td>979767.000000</td>\n",
       "      <td>979767.000000</td>\n",
       "    </tr>\n",
       "    <tr>\n",
       "      <th>mean</th>\n",
       "      <td>0.081971</td>\n",
       "      <td>0.619094</td>\n",
       "      <td>0.146354</td>\n",
       "      <td>0.070884</td>\n",
       "      <td>0.081697</td>\n",
       "      <td>0.057728</td>\n",
       "      <td>0.090322</td>\n",
       "      <td>0.062896</td>\n",
       "      <td>0.174545</td>\n",
       "      <td>0.328488</td>\n",
       "      <td>...</td>\n",
       "      <td>0.184550</td>\n",
       "      <td>0.385467</td>\n",
       "      <td>0.302215</td>\n",
       "      <td>0.312318</td>\n",
       "      <td>0.999999</td>\n",
       "      <td>0.000001</td>\n",
       "      <td>0.995515</td>\n",
       "      <td>0.004485</td>\n",
       "      <td>0.975547</td>\n",
       "      <td>0.024453</td>\n",
       "    </tr>\n",
       "    <tr>\n",
       "      <th>std</th>\n",
       "      <td>0.274320</td>\n",
       "      <td>0.485610</td>\n",
       "      <td>0.353461</td>\n",
       "      <td>0.256631</td>\n",
       "      <td>0.273903</td>\n",
       "      <td>0.233229</td>\n",
       "      <td>0.286643</td>\n",
       "      <td>0.242775</td>\n",
       "      <td>0.379577</td>\n",
       "      <td>0.469664</td>\n",
       "      <td>...</td>\n",
       "      <td>0.387932</td>\n",
       "      <td>0.486706</td>\n",
       "      <td>0.459218</td>\n",
       "      <td>0.463439</td>\n",
       "      <td>0.001010</td>\n",
       "      <td>0.001010</td>\n",
       "      <td>0.066818</td>\n",
       "      <td>0.066818</td>\n",
       "      <td>0.154450</td>\n",
       "      <td>0.154450</td>\n",
       "    </tr>\n",
       "    <tr>\n",
       "      <th>min</th>\n",
       "      <td>0.000000</td>\n",
       "      <td>0.000000</td>\n",
       "      <td>0.000000</td>\n",
       "      <td>0.000000</td>\n",
       "      <td>0.000000</td>\n",
       "      <td>0.000000</td>\n",
       "      <td>0.000000</td>\n",
       "      <td>0.000000</td>\n",
       "      <td>0.000000</td>\n",
       "      <td>0.000000</td>\n",
       "      <td>...</td>\n",
       "      <td>0.000000</td>\n",
       "      <td>0.000000</td>\n",
       "      <td>0.000000</td>\n",
       "      <td>0.000000</td>\n",
       "      <td>0.000000</td>\n",
       "      <td>0.000000</td>\n",
       "      <td>0.000000</td>\n",
       "      <td>0.000000</td>\n",
       "      <td>0.000000</td>\n",
       "      <td>0.000000</td>\n",
       "    </tr>\n",
       "    <tr>\n",
       "      <th>25%</th>\n",
       "      <td>0.000000</td>\n",
       "      <td>0.000000</td>\n",
       "      <td>0.000000</td>\n",
       "      <td>0.000000</td>\n",
       "      <td>0.000000</td>\n",
       "      <td>0.000000</td>\n",
       "      <td>0.000000</td>\n",
       "      <td>0.000000</td>\n",
       "      <td>0.000000</td>\n",
       "      <td>0.000000</td>\n",
       "      <td>...</td>\n",
       "      <td>0.000000</td>\n",
       "      <td>0.000000</td>\n",
       "      <td>0.000000</td>\n",
       "      <td>0.000000</td>\n",
       "      <td>1.000000</td>\n",
       "      <td>0.000000</td>\n",
       "      <td>1.000000</td>\n",
       "      <td>0.000000</td>\n",
       "      <td>1.000000</td>\n",
       "      <td>0.000000</td>\n",
       "    </tr>\n",
       "    <tr>\n",
       "      <th>50%</th>\n",
       "      <td>0.000000</td>\n",
       "      <td>1.000000</td>\n",
       "      <td>0.000000</td>\n",
       "      <td>0.000000</td>\n",
       "      <td>0.000000</td>\n",
       "      <td>0.000000</td>\n",
       "      <td>0.000000</td>\n",
       "      <td>0.000000</td>\n",
       "      <td>0.000000</td>\n",
       "      <td>0.000000</td>\n",
       "      <td>...</td>\n",
       "      <td>0.000000</td>\n",
       "      <td>0.000000</td>\n",
       "      <td>0.000000</td>\n",
       "      <td>0.000000</td>\n",
       "      <td>1.000000</td>\n",
       "      <td>0.000000</td>\n",
       "      <td>1.000000</td>\n",
       "      <td>0.000000</td>\n",
       "      <td>1.000000</td>\n",
       "      <td>0.000000</td>\n",
       "    </tr>\n",
       "    <tr>\n",
       "      <th>75%</th>\n",
       "      <td>0.000000</td>\n",
       "      <td>1.000000</td>\n",
       "      <td>0.000000</td>\n",
       "      <td>0.000000</td>\n",
       "      <td>0.000000</td>\n",
       "      <td>0.000000</td>\n",
       "      <td>0.000000</td>\n",
       "      <td>0.000000</td>\n",
       "      <td>0.000000</td>\n",
       "      <td>1.000000</td>\n",
       "      <td>...</td>\n",
       "      <td>0.000000</td>\n",
       "      <td>1.000000</td>\n",
       "      <td>1.000000</td>\n",
       "      <td>1.000000</td>\n",
       "      <td>1.000000</td>\n",
       "      <td>0.000000</td>\n",
       "      <td>1.000000</td>\n",
       "      <td>0.000000</td>\n",
       "      <td>1.000000</td>\n",
       "      <td>0.000000</td>\n",
       "    </tr>\n",
       "    <tr>\n",
       "      <th>max</th>\n",
       "      <td>1.000000</td>\n",
       "      <td>1.000000</td>\n",
       "      <td>1.000000</td>\n",
       "      <td>1.000000</td>\n",
       "      <td>1.000000</td>\n",
       "      <td>1.000000</td>\n",
       "      <td>1.000000</td>\n",
       "      <td>1.000000</td>\n",
       "      <td>1.000000</td>\n",
       "      <td>1.000000</td>\n",
       "      <td>...</td>\n",
       "      <td>1.000000</td>\n",
       "      <td>1.000000</td>\n",
       "      <td>1.000000</td>\n",
       "      <td>1.000000</td>\n",
       "      <td>1.000000</td>\n",
       "      <td>1.000000</td>\n",
       "      <td>1.000000</td>\n",
       "      <td>1.000000</td>\n",
       "      <td>1.000000</td>\n",
       "      <td>1.000000</td>\n",
       "    </tr>\n",
       "  </tbody>\n",
       "</table>\n",
       "<p>8 rows × 62 columns</p>\n",
       "</div>"
      ],
      "text/plain": [
       "       addr_state_NY  addr_state_Rare  addr_state_CA  addr_state_FL  \\\n",
       "count  979767.000000    979767.000000  979767.000000  979767.000000   \n",
       "mean        0.081971         0.619094       0.146354       0.070884   \n",
       "std         0.274320         0.485610       0.353461       0.256631   \n",
       "min         0.000000         0.000000       0.000000       0.000000   \n",
       "25%         0.000000         0.000000       0.000000       0.000000   \n",
       "50%         0.000000         1.000000       0.000000       0.000000   \n",
       "75%         0.000000         1.000000       0.000000       0.000000   \n",
       "max         1.000000         1.000000       1.000000       1.000000   \n",
       "\n",
       "       addr_state_TX  emp_length_other  emp_length_2 years  \\\n",
       "count  979767.000000     979767.000000       979767.000000   \n",
       "mean        0.081697          0.057728            0.090322   \n",
       "std         0.273903          0.233229            0.286643   \n",
       "min         0.000000          0.000000            0.000000   \n",
       "25%         0.000000          0.000000            0.000000   \n",
       "50%         0.000000          0.000000            0.000000   \n",
       "75%         0.000000          0.000000            0.000000   \n",
       "max         1.000000          1.000000            1.000000   \n",
       "\n",
       "       emp_length_5 years  emp_length_Rare  emp_length_10+ years  ...  \\\n",
       "count       979767.000000    979767.000000         979767.000000  ...   \n",
       "mean             0.062896         0.174545              0.328488  ...   \n",
       "std              0.242775         0.379577              0.469664  ...   \n",
       "min              0.000000         0.000000              0.000000  ...   \n",
       "25%              0.000000         0.000000              0.000000  ...   \n",
       "50%              0.000000         0.000000              0.000000  ...   \n",
       "75%              0.000000         0.000000              1.000000  ...   \n",
       "max              1.000000         1.000000              1.000000  ...   \n",
       "\n",
       "       title_Credit card refinancing  verification_status_Source Verified  \\\n",
       "count                  979767.000000                        979767.000000   \n",
       "mean                        0.184550                             0.385467   \n",
       "std                         0.387932                             0.486706   \n",
       "min                         0.000000                             0.000000   \n",
       "25%                         0.000000                             0.000000   \n",
       "50%                         0.000000                             0.000000   \n",
       "75%                         0.000000                             1.000000   \n",
       "max                         1.000000                             1.000000   \n",
       "\n",
       "       verification_status_Not Verified  verification_status_Verified  \\\n",
       "count                     979767.000000                 979767.000000   \n",
       "mean                           0.302215                      0.312318   \n",
       "std                            0.459218                      0.463439   \n",
       "min                            0.000000                      0.000000   \n",
       "25%                            0.000000                      0.000000   \n",
       "50%                            0.000000                      0.000000   \n",
       "75%                            1.000000                      1.000000   \n",
       "max                            1.000000                      1.000000   \n",
       "\n",
       "       hardship_flag_N  hardship_flag_Y  disbursement_method_Cash  \\\n",
       "count    979767.000000    979767.000000             979767.000000   \n",
       "mean          0.999999         0.000001                  0.995515   \n",
       "std           0.001010         0.001010                  0.066818   \n",
       "min           0.000000         0.000000                  0.000000   \n",
       "25%           1.000000         0.000000                  1.000000   \n",
       "50%           1.000000         0.000000                  1.000000   \n",
       "75%           1.000000         0.000000                  1.000000   \n",
       "max           1.000000         1.000000                  1.000000   \n",
       "\n",
       "       disbursement_method_DirectPay  debt_settlement_flag_N  \\\n",
       "count                  979767.000000           979767.000000   \n",
       "mean                        0.004485                0.975547   \n",
       "std                         0.066818                0.154450   \n",
       "min                         0.000000                0.000000   \n",
       "25%                         0.000000                1.000000   \n",
       "50%                         0.000000                1.000000   \n",
       "75%                         0.000000                1.000000   \n",
       "max                         1.000000                1.000000   \n",
       "\n",
       "       debt_settlement_flag_Y  \n",
       "count           979767.000000  \n",
       "mean                 0.024453  \n",
       "std                  0.154450  \n",
       "min                  0.000000  \n",
       "25%                  0.000000  \n",
       "50%                  0.000000  \n",
       "75%                  0.000000  \n",
       "max                  1.000000  \n",
       "\n",
       "[8 rows x 62 columns]"
      ]
     },
     "execution_count": 32,
     "metadata": {},
     "output_type": "execute_result"
    }
   ],
   "source": [
    "cat_X_train.describe()"
   ]
  },
  {
   "cell_type": "markdown",
   "metadata": {},
   "source": [
    "### Encode target labels"
   ]
  },
  {
   "cell_type": "code",
   "execution_count": 19,
   "metadata": {},
   "outputs": [],
   "source": [
    "le = LabelEncoder()\n",
    "le.fit(y_train)\n",
    "y_train = le.transform(y_train)\n",
    "y_test = le.transform(y_test)"
   ]
  },
  {
   "cell_type": "code",
   "execution_count": 20,
   "metadata": {},
   "outputs": [],
   "source": [
    "# Cast to pandas array\n",
    "y_train = pd.DataFrame(y_train)\n",
    "y_test = pd.DataFrame(y_test)\n",
    "\n",
    "# label column\n",
    "y_train.columns = ['labels']\n",
    "y_test.columns = ['labels']"
   ]
  },
  {
   "cell_type": "code",
   "execution_count": 25,
   "metadata": {},
   "outputs": [],
   "source": [
    "#y_train.head()\n",
    "#len(y_train)"
   ]
  },
  {
   "cell_type": "code",
   "execution_count": null,
   "metadata": {},
   "outputs": [],
   "source": [
    "pd.Series(le.inverse_transform(y_train.values.ravel())).head(10)"
   ]
  },
  {
   "cell_type": "code",
   "execution_count": 56,
   "metadata": {},
   "outputs": [
    {
     "data": {
      "text/plain": [
       "(979767,)"
      ]
     },
     "execution_count": 56,
     "metadata": {},
     "output_type": "execute_result"
    }
   ],
   "source": []
  },
  {
   "cell_type": "code",
   "execution_count": 54,
   "metadata": {},
   "outputs": [
    {
     "data": {
      "text/plain": [
       "(979767, 1)"
      ]
     },
     "execution_count": 54,
     "metadata": {},
     "output_type": "execute_result"
    }
   ],
   "source": []
  },
  {
   "cell_type": "markdown",
   "metadata": {},
   "source": [
    "## Concatenate dataframes for export"
   ]
  },
  {
   "cell_type": "code",
   "execution_count": 37,
   "metadata": {},
   "outputs": [
    {
     "name": "stdout",
     "output_type": "stream",
     "text": [
      "(979767, 109)\n",
      "(326589, 109)\n"
     ]
    }
   ],
   "source": [
    "final_train_df = pd.concat([num_X_train,cat_X_train,y_train],axis=1)\n",
    "final_test_df = pd.concat([num_X_test,cat_X_test,y_test],axis=1)\n",
    "\n",
    "print(final_train_df.shape)\n",
    "print(final_test_df.shape)"
   ]
  },
  {
   "cell_type": "code",
   "execution_count": 38,
   "metadata": {},
   "outputs": [
    {
     "data": {
      "text/html": [
       "<div>\n",
       "<style scoped>\n",
       "    .dataframe tbody tr th:only-of-type {\n",
       "        vertical-align: middle;\n",
       "    }\n",
       "\n",
       "    .dataframe tbody tr th {\n",
       "        vertical-align: top;\n",
       "    }\n",
       "\n",
       "    .dataframe thead th {\n",
       "        text-align: right;\n",
       "    }\n",
       "</style>\n",
       "<table border=\"1\" class=\"dataframe\">\n",
       "  <thead>\n",
       "    <tr style=\"text-align: right;\">\n",
       "      <th></th>\n",
       "      <th>acc_now_delinq</th>\n",
       "      <th>annual_inc</th>\n",
       "      <th>avg_cur_bal</th>\n",
       "      <th>bc_open_to_buy</th>\n",
       "      <th>bc_util</th>\n",
       "      <th>delinq_2yrs</th>\n",
       "      <th>delinq_amnt</th>\n",
       "      <th>dti</th>\n",
       "      <th>funded_amnt</th>\n",
       "      <th>funded_amnt_inv</th>\n",
       "      <th>...</th>\n",
       "      <th>verification_status_Source Verified</th>\n",
       "      <th>verification_status_Not Verified</th>\n",
       "      <th>verification_status_Verified</th>\n",
       "      <th>hardship_flag_N</th>\n",
       "      <th>hardship_flag_Y</th>\n",
       "      <th>disbursement_method_Cash</th>\n",
       "      <th>disbursement_method_DirectPay</th>\n",
       "      <th>debt_settlement_flag_N</th>\n",
       "      <th>debt_settlement_flag_Y</th>\n",
       "      <th>labels</th>\n",
       "    </tr>\n",
       "  </thead>\n",
       "  <tbody>\n",
       "    <tr>\n",
       "      <th>0</th>\n",
       "      <td>-0.06916</td>\n",
       "      <td>-0.340928</td>\n",
       "      <td>-0.865093</td>\n",
       "      <td>0.911531</td>\n",
       "      <td>-1.567894</td>\n",
       "      <td>-0.429606</td>\n",
       "      <td>-0.038715</td>\n",
       "      <td>-0.520411</td>\n",
       "      <td>0.185192</td>\n",
       "      <td>0.188314</td>\n",
       "      <td>...</td>\n",
       "      <td>1</td>\n",
       "      <td>0</td>\n",
       "      <td>0</td>\n",
       "      <td>1</td>\n",
       "      <td>0</td>\n",
       "      <td>1</td>\n",
       "      <td>0</td>\n",
       "      <td>1</td>\n",
       "      <td>0</td>\n",
       "      <td>0</td>\n",
       "    </tr>\n",
       "    <tr>\n",
       "      <th>1</th>\n",
       "      <td>-0.06916</td>\n",
       "      <td>0.537220</td>\n",
       "      <td>-0.675828</td>\n",
       "      <td>-0.130907</td>\n",
       "      <td>-0.896770</td>\n",
       "      <td>1.090431</td>\n",
       "      <td>-0.038715</td>\n",
       "      <td>-1.311121</td>\n",
       "      <td>-0.505232</td>\n",
       "      <td>-0.501616</td>\n",
       "      <td>...</td>\n",
       "      <td>0</td>\n",
       "      <td>1</td>\n",
       "      <td>0</td>\n",
       "      <td>1</td>\n",
       "      <td>0</td>\n",
       "      <td>1</td>\n",
       "      <td>0</td>\n",
       "      <td>1</td>\n",
       "      <td>0</td>\n",
       "      <td>1</td>\n",
       "    </tr>\n",
       "    <tr>\n",
       "      <th>2</th>\n",
       "      <td>-0.06916</td>\n",
       "      <td>-0.456474</td>\n",
       "      <td>0.887956</td>\n",
       "      <td>-0.766508</td>\n",
       "      <td>1.421332</td>\n",
       "      <td>1.090431</td>\n",
       "      <td>-0.038715</td>\n",
       "      <td>-0.160679</td>\n",
       "      <td>0.018340</td>\n",
       "      <td>0.021581</td>\n",
       "      <td>...</td>\n",
       "      <td>1</td>\n",
       "      <td>0</td>\n",
       "      <td>0</td>\n",
       "      <td>1</td>\n",
       "      <td>0</td>\n",
       "      <td>1</td>\n",
       "      <td>0</td>\n",
       "      <td>1</td>\n",
       "      <td>0</td>\n",
       "      <td>1</td>\n",
       "    </tr>\n",
       "    <tr>\n",
       "      <th>3</th>\n",
       "      <td>-0.06916</td>\n",
       "      <td>-0.722229</td>\n",
       "      <td>0.981768</td>\n",
       "      <td>-0.754082</td>\n",
       "      <td>1.316129</td>\n",
       "      <td>-0.429606</td>\n",
       "      <td>-0.038715</td>\n",
       "      <td>-0.251780</td>\n",
       "      <td>-0.275091</td>\n",
       "      <td>-0.271640</td>\n",
       "      <td>...</td>\n",
       "      <td>0</td>\n",
       "      <td>1</td>\n",
       "      <td>0</td>\n",
       "      <td>1</td>\n",
       "      <td>0</td>\n",
       "      <td>1</td>\n",
       "      <td>0</td>\n",
       "      <td>1</td>\n",
       "      <td>0</td>\n",
       "      <td>0</td>\n",
       "    </tr>\n",
       "    <tr>\n",
       "      <th>4</th>\n",
       "      <td>-0.06916</td>\n",
       "      <td>-0.803111</td>\n",
       "      <td>-0.850328</td>\n",
       "      <td>-0.667596</td>\n",
       "      <td>0.412831</td>\n",
       "      <td>-0.429606</td>\n",
       "      <td>-0.038715</td>\n",
       "      <td>-0.679254</td>\n",
       "      <td>-1.011544</td>\n",
       "      <td>-1.007565</td>\n",
       "      <td>...</td>\n",
       "      <td>0</td>\n",
       "      <td>1</td>\n",
       "      <td>0</td>\n",
       "      <td>1</td>\n",
       "      <td>0</td>\n",
       "      <td>1</td>\n",
       "      <td>0</td>\n",
       "      <td>1</td>\n",
       "      <td>0</td>\n",
       "      <td>1</td>\n",
       "    </tr>\n",
       "  </tbody>\n",
       "</table>\n",
       "<p>5 rows × 109 columns</p>\n",
       "</div>"
      ],
      "text/plain": [
       "   acc_now_delinq  annual_inc  avg_cur_bal  bc_open_to_buy   bc_util  \\\n",
       "0        -0.06916   -0.340928    -0.865093        0.911531 -1.567894   \n",
       "1        -0.06916    0.537220    -0.675828       -0.130907 -0.896770   \n",
       "2        -0.06916   -0.456474     0.887956       -0.766508  1.421332   \n",
       "3        -0.06916   -0.722229     0.981768       -0.754082  1.316129   \n",
       "4        -0.06916   -0.803111    -0.850328       -0.667596  0.412831   \n",
       "\n",
       "   delinq_2yrs  delinq_amnt       dti  funded_amnt  funded_amnt_inv  ...  \\\n",
       "0    -0.429606    -0.038715 -0.520411     0.185192         0.188314  ...   \n",
       "1     1.090431    -0.038715 -1.311121    -0.505232        -0.501616  ...   \n",
       "2     1.090431    -0.038715 -0.160679     0.018340         0.021581  ...   \n",
       "3    -0.429606    -0.038715 -0.251780    -0.275091        -0.271640  ...   \n",
       "4    -0.429606    -0.038715 -0.679254    -1.011544        -1.007565  ...   \n",
       "\n",
       "   verification_status_Source Verified  verification_status_Not Verified  \\\n",
       "0                                    1                                 0   \n",
       "1                                    0                                 1   \n",
       "2                                    1                                 0   \n",
       "3                                    0                                 1   \n",
       "4                                    0                                 1   \n",
       "\n",
       "   verification_status_Verified  hardship_flag_N  hardship_flag_Y  \\\n",
       "0                             0                1                0   \n",
       "1                             0                1                0   \n",
       "2                             0                1                0   \n",
       "3                             0                1                0   \n",
       "4                             0                1                0   \n",
       "\n",
       "   disbursement_method_Cash  disbursement_method_DirectPay  \\\n",
       "0                         1                              0   \n",
       "1                         1                              0   \n",
       "2                         1                              0   \n",
       "3                         1                              0   \n",
       "4                         1                              0   \n",
       "\n",
       "   debt_settlement_flag_N  debt_settlement_flag_Y  labels  \n",
       "0                       1                       0       0  \n",
       "1                       1                       0       1  \n",
       "2                       1                       0       1  \n",
       "3                       1                       0       0  \n",
       "4                       1                       0       1  \n",
       "\n",
       "[5 rows x 109 columns]"
      ]
     },
     "execution_count": 38,
     "metadata": {},
     "output_type": "execute_result"
    }
   ],
   "source": [
    "final_train_df.head()"
   ]
  },
  {
   "cell_type": "code",
   "execution_count": 39,
   "metadata": {},
   "outputs": [],
   "source": [
    "final_train_df.to_csv('Data/train.csv',index=False)\n",
    "final_test_df.to_csv('Data/test.csv',index=False)"
   ]
  },
  {
   "cell_type": "code",
   "execution_count": null,
   "metadata": {},
   "outputs": [],
   "source": []
  }
 ],
 "metadata": {
  "kernelspec": {
   "display_name": "Python 3",
   "language": "python",
   "name": "python3"
  },
  "language_info": {
   "codemirror_mode": {
    "name": "ipython",
    "version": 3
   },
   "file_extension": ".py",
   "mimetype": "text/x-python",
   "name": "python",
   "nbconvert_exporter": "python",
   "pygments_lexer": "ipython3",
   "version": "3.7.3"
  }
 },
 "nbformat": 4,
 "nbformat_minor": 2
}
