{
 "cells": [
  {
   "cell_type": "code",
   "execution_count": 3,
   "metadata": {},
   "outputs": [],
   "source": [
    "import pandas as pd\n",
    "import numpy as np\n",
    "import matplotlib.pyplot as plt\n",
    "import seaborn as sns\n",
    "\n",
    "import warnings\n",
    "warnings.filterwarnings('ignore')\n",
    "\n",
    "%matplotlib inline"
   ]
  },
  {
   "cell_type": "code",
   "execution_count": 4,
   "metadata": {},
   "outputs": [],
   "source": [
    "# read in cleaned train and test data; concatenate to single df\n",
    "final_train_df = pd.read_csv('Data/train.csv')\n",
    "final_test_df = pd.read_csv('Data/test.csv')\n",
    "cl_df = pd.concat([final_train_df, final_test_df], ignore_index=True)"
   ]
  },
  {
   "cell_type": "code",
   "execution_count": 8,
   "metadata": {},
   "outputs": [
    {
     "data": {
      "text/plain": [
       "1    1043940\n",
       "0     262416\n",
       "Name: labels, dtype: int64"
      ]
     },
     "execution_count": 8,
     "metadata": {},
     "output_type": "execute_result"
    }
   ],
   "source": [
    "cl_df.labels.value_counts()\n"
   ]
  },
  {
   "cell_type": "code",
   "execution_count": null,
   "metadata": {},
   "outputs": [],
   "source": [
    "divide group into default-1 and non default-0  for bootstrapping\n"
   ]
  },
  {
   "cell_type": "code",
   "execution_count": null,
   "metadata": {},
   "outputs": [],
   "source": []
  },
  {
   "cell_type": "markdown",
   "metadata": {},
   "source": [
    "### Bootstrap Hypothesis Testing"
   ]
  },
  {
   "cell_type": "code",
   "execution_count": 5,
   "metadata": {},
   "outputs": [],
   "source": [
    "np.random.seed(48)\n",
    "N_rep = 10000\n",
    "\n",
    "def draw_bs_reps(data, func, size=1):\n",
    "    # initialize array\n",
    "    bs_replicates = np.empty(size)\n",
    "    \n",
    "    # generate replicates\n",
    "    for i in range(size):\n",
    "        sample = np.random.choice(data, len(data))\n",
    "        bs_replicates[i] = func(sample)\n",
    "        \n",
    "    return bs_replicates\n"
   ]
  },
  {
   "cell_type": "code",
   "execution_count": 9,
   "metadata": {},
   "outputs": [],
   "source": [
    "# subset into arrays: charged_off(0) and fully_paid(1)\n",
    "\n",
    "charged_off = np.array(cl_df.annual_inc[cl_df.labels==0])\n",
    "fully_paid = np.array(cl_df.annual_inc[cl_df.labels==1])"
   ]
  },
  {
   "cell_type": "code",
   "execution_count": 10,
   "metadata": {},
   "outputs": [],
   "source": [
    "# difference in observed mean for charged_off(0) and fully_paid(1): obs_diff_mean\n",
    "obs_diff_mean = np.mean(charged_off) - np.mean(fully_paid)"
   ]
  },
  {
   "cell_type": "code",
   "execution_count": 13,
   "metadata": {},
   "outputs": [
    {
     "name": "stdout",
     "output_type": "stream",
     "text": [
      "The 95% confidence interval for the difference between replicant subscribers and customers is:  [-0.16068702 -0.15253539]\n"
     ]
    }
   ],
   "source": [
    "# Calculate the 95% confidence interval for the difference between the means\n",
    "charged_mean_replicates = draw_bs_reps(charged_off, np.mean, size=10000)\n",
    "paid_mean_replicates = draw_bs_reps(fully_paid, np.mean, size=10000)\n",
    "\n",
    "bs_diff_mean = draw_bs_reps(charged_off, np.mean, size=10000) - draw_bs_reps(fully_paid, np.mean, size=10000)\n",
    "\n",
    "ci_bs_mean = np.percentile(bs_diff_mean, [2.5, 97.5])\n",
    "\n",
    "print(\"The 95% confidence interval for the difference between replicant charged off and fully paid accounts is: \", ci_bs_mean)"
   ]
  },
  {
   "cell_type": "code",
   "execution_count": null,
   "metadata": {},
   "outputs": [],
   "source": []
  },
  {
   "cell_type": "markdown",
   "metadata": {},
   "source": [
    "#### Bootstrap Procedure Using Mean As Test Statistic"
   ]
  },
  {
   "cell_type": "code",
   "execution_count": 18,
   "metadata": {},
   "outputs": [
    {
     "name": "stdout",
     "output_type": "stream",
     "text": [
      "p-value = 1.0\n"
     ]
    }
   ],
   "source": [
    "# Bootstrap Procedure Using Mean As Test Statistic\n",
    "\n",
    "# Merge the two observed samples into one sample of (n + m) observations\n",
    "# Draw a bootstrap sample of (n + m) observations with replacement from the merged sample.\n",
    "reps = 10000\n",
    "\n",
    "# Concatenate the data sets: data\n",
    "data = np.concatenate((charged_off, fully_paid))\n",
    "charged_bs_rep_means = np.empty(reps)\n",
    "paid_bs_rep_means = np.empty(reps)\n",
    "        \n",
    "# generate replicates\n",
    "for i in range(reps):\n",
    "\n",
    "    # Sample with replacement the concatenated array: sampled_data\n",
    "    sampled_data = np.random.choice(data, len(data))\n",
    "\n",
    "    # Split the sampled array into two: sample_1, sample_2\n",
    "    charged_sample = sampled_data[:len(charged_off)]\n",
    "    paid_sample = sampled_data[len(charged_off):]\n",
    "\n",
    "    # Calculate means\n",
    "    charged_bs_rep_means[i] = np.mean(charged_sample)\n",
    "    paid_bs_rep_means[i] = np.mean(paid_sample)\n",
    "    \n",
    "# Calculate difference in means: diff_bs_rep_means\n",
    "diff_bs_rep_means = charged_bs_rep_means - paid_bs_rep_means\n",
    "\n",
    "# Compute p-value: p\n",
    "p = np.sum(diff_bs_rep_means >= obs_diff_mean) / len(diff_bs_rep_means)\n",
    "\n",
    "# Print the result\n",
    "print('p-value =', p)\n"
   ]
  },
  {
   "cell_type": "code",
   "execution_count": null,
   "metadata": {},
   "outputs": [],
   "source": [
    "####################################\n",
    "####################################\n",
    "####################################\n",
    "\n",
    "WHY IS P=1???!!"
   ]
  },
  {
   "cell_type": "markdown",
   "metadata": {},
   "source": [
    "\n",
    "For $\\alpha$ = 0.05,\n",
    "\n",
    "$H_0$ : There is no difference in annual income between charged_off and fully_paid loans.\n",
    "\n",
    "\n",
    "$H_a$ : There is a difference in annual income between charged_off and fully_paid loans.\n",
    "\n",
    "p = 1.0\n",
    "\n",
    "We do not reject the null hypothesis. There is no statistical difference between subscribers and customers.\n",
    "\n"
   ]
  },
  {
   "cell_type": "code",
   "execution_count": null,
   "metadata": {},
   "outputs": [],
   "source": []
  },
  {
   "cell_type": "code",
   "execution_count": null,
   "metadata": {},
   "outputs": [],
   "source": []
  },
  {
   "cell_type": "code",
   "execution_count": null,
   "metadata": {},
   "outputs": [],
   "source": []
  },
  {
   "cell_type": "code",
   "execution_count": null,
   "metadata": {},
   "outputs": [],
   "source": [
    "boostrap on the mean default rate"
   ]
  },
  {
   "cell_type": "code",
   "execution_count": null,
   "metadata": {},
   "outputs": [],
   "source": []
  }
 ],
 "metadata": {
  "kernelspec": {
   "display_name": "Python 3",
   "language": "python",
   "name": "python3"
  },
  "language_info": {
   "codemirror_mode": {
    "name": "ipython",
    "version": 3
   },
   "file_extension": ".py",
   "mimetype": "text/x-python",
   "name": "python",
   "nbconvert_exporter": "python",
   "pygments_lexer": "ipython3",
   "version": "3.7.3"
  }
 },
 "nbformat": 4,
 "nbformat_minor": 2
}
