{
 "cells": [
  {
   "cell_type": "code",
   "execution_count": 1,
   "metadata": {},
   "outputs": [],
   "source": [
    "import pandas as pd\n",
    "import numpy as np\n",
    "import scipy\n",
    "import matplotlib.pyplot as plt\n",
    "import seaborn as sns\n",
    "import warnings\n",
    "warnings.filterwarnings('ignore')\n",
    "\n",
    "%matplotlib inline"
   ]
  },
  {
   "cell_type": "code",
   "execution_count": 2,
   "metadata": {},
   "outputs": [],
   "source": [
    "# read in cleaned train and test data; concatenate to single df\n",
    "# NOTE: this data has been scaled and categorical encoded in previous notebook  \n",
    "\n",
    "final_train_df = pd.read_csv('Data/train.csv')\n",
    "final_test_df = pd.read_csv('Data/test.csv')\n",
    "cl_df = pd.concat([final_train_df, final_test_df], ignore_index=True)"
   ]
  },
  {
   "cell_type": "code",
   "execution_count": 3,
   "metadata": {},
   "outputs": [
    {
     "data": {
      "text/plain": [
       "1    1043940\n",
       "0     262416\n",
       "Name: labels, dtype: int64"
      ]
     },
     "execution_count": 3,
     "metadata": {},
     "output_type": "execute_result"
    }
   ],
   "source": [
    "cl_df.labels.value_counts()\n"
   ]
  },
  {
   "cell_type": "code",
   "execution_count": 4,
   "metadata": {
    "scrolled": true
   },
   "outputs": [
    {
     "data": {
      "text/html": [
       "<div>\n",
       "<style scoped>\n",
       "    .dataframe tbody tr th:only-of-type {\n",
       "        vertical-align: middle;\n",
       "    }\n",
       "\n",
       "    .dataframe tbody tr th {\n",
       "        vertical-align: top;\n",
       "    }\n",
       "\n",
       "    .dataframe thead th {\n",
       "        text-align: right;\n",
       "    }\n",
       "</style>\n",
       "<table border=\"1\" class=\"dataframe\">\n",
       "  <thead>\n",
       "    <tr style=\"text-align: right;\">\n",
       "      <th></th>\n",
       "      <th>index</th>\n",
       "      <th>acc_now_delinq</th>\n",
       "      <th>annual_inc</th>\n",
       "      <th>avg_cur_bal</th>\n",
       "      <th>bc_open_to_buy</th>\n",
       "      <th>bc_util</th>\n",
       "      <th>delinq_2yrs</th>\n",
       "      <th>delinq_amnt</th>\n",
       "      <th>dti</th>\n",
       "      <th>funded_amnt</th>\n",
       "      <th>...</th>\n",
       "      <th>verification_status_Source Verified</th>\n",
       "      <th>verification_status_Not Verified</th>\n",
       "      <th>verification_status_Verified</th>\n",
       "      <th>hardship_flag_N</th>\n",
       "      <th>hardship_flag_Y</th>\n",
       "      <th>disbursement_method_Cash</th>\n",
       "      <th>disbursement_method_DirectPay</th>\n",
       "      <th>debt_settlement_flag_N</th>\n",
       "      <th>debt_settlement_flag_Y</th>\n",
       "      <th>labels</th>\n",
       "    </tr>\n",
       "  </thead>\n",
       "  <tbody>\n",
       "    <tr>\n",
       "      <th>0</th>\n",
       "      <td>1</td>\n",
       "      <td>-0.06916</td>\n",
       "      <td>0.537220</td>\n",
       "      <td>-0.675828</td>\n",
       "      <td>-0.130907</td>\n",
       "      <td>-0.896770</td>\n",
       "      <td>1.090431</td>\n",
       "      <td>-0.038715</td>\n",
       "      <td>-1.311121</td>\n",
       "      <td>-0.505232</td>\n",
       "      <td>...</td>\n",
       "      <td>0</td>\n",
       "      <td>1</td>\n",
       "      <td>0</td>\n",
       "      <td>1</td>\n",
       "      <td>0</td>\n",
       "      <td>1</td>\n",
       "      <td>0</td>\n",
       "      <td>1</td>\n",
       "      <td>0</td>\n",
       "      <td>1</td>\n",
       "    </tr>\n",
       "    <tr>\n",
       "      <th>1</th>\n",
       "      <td>2</td>\n",
       "      <td>-0.06916</td>\n",
       "      <td>-0.456474</td>\n",
       "      <td>0.887956</td>\n",
       "      <td>-0.766508</td>\n",
       "      <td>1.421332</td>\n",
       "      <td>1.090431</td>\n",
       "      <td>-0.038715</td>\n",
       "      <td>-0.160679</td>\n",
       "      <td>0.018340</td>\n",
       "      <td>...</td>\n",
       "      <td>1</td>\n",
       "      <td>0</td>\n",
       "      <td>0</td>\n",
       "      <td>1</td>\n",
       "      <td>0</td>\n",
       "      <td>1</td>\n",
       "      <td>0</td>\n",
       "      <td>1</td>\n",
       "      <td>0</td>\n",
       "      <td>1</td>\n",
       "    </tr>\n",
       "    <tr>\n",
       "      <th>2</th>\n",
       "      <td>4</td>\n",
       "      <td>-0.06916</td>\n",
       "      <td>-0.803111</td>\n",
       "      <td>-0.850328</td>\n",
       "      <td>-0.667596</td>\n",
       "      <td>0.412831</td>\n",
       "      <td>-0.429606</td>\n",
       "      <td>-0.038715</td>\n",
       "      <td>-0.679254</td>\n",
       "      <td>-1.011544</td>\n",
       "      <td>...</td>\n",
       "      <td>0</td>\n",
       "      <td>1</td>\n",
       "      <td>0</td>\n",
       "      <td>1</td>\n",
       "      <td>0</td>\n",
       "      <td>1</td>\n",
       "      <td>0</td>\n",
       "      <td>1</td>\n",
       "      <td>0</td>\n",
       "      <td>1</td>\n",
       "    </tr>\n",
       "    <tr>\n",
       "      <th>3</th>\n",
       "      <td>5</td>\n",
       "      <td>-0.06916</td>\n",
       "      <td>0.491001</td>\n",
       "      <td>3.582835</td>\n",
       "      <td>0.125506</td>\n",
       "      <td>-0.269177</td>\n",
       "      <td>-0.429606</td>\n",
       "      <td>-0.038715</td>\n",
       "      <td>-1.700052</td>\n",
       "      <td>1.105759</td>\n",
       "      <td>...</td>\n",
       "      <td>1</td>\n",
       "      <td>0</td>\n",
       "      <td>0</td>\n",
       "      <td>1</td>\n",
       "      <td>0</td>\n",
       "      <td>1</td>\n",
       "      <td>0</td>\n",
       "      <td>1</td>\n",
       "      <td>0</td>\n",
       "      <td>1</td>\n",
       "    </tr>\n",
       "    <tr>\n",
       "      <th>4</th>\n",
       "      <td>7</td>\n",
       "      <td>-0.06916</td>\n",
       "      <td>-0.063618</td>\n",
       "      <td>0.331795</td>\n",
       "      <td>-0.278204</td>\n",
       "      <td>0.372926</td>\n",
       "      <td>1.090431</td>\n",
       "      <td>-0.038715</td>\n",
       "      <td>0.434981</td>\n",
       "      <td>-0.505232</td>\n",
       "      <td>...</td>\n",
       "      <td>1</td>\n",
       "      <td>0</td>\n",
       "      <td>0</td>\n",
       "      <td>1</td>\n",
       "      <td>0</td>\n",
       "      <td>1</td>\n",
       "      <td>0</td>\n",
       "      <td>1</td>\n",
       "      <td>0</td>\n",
       "      <td>1</td>\n",
       "    </tr>\n",
       "  </tbody>\n",
       "</table>\n",
       "<p>5 rows × 110 columns</p>\n",
       "</div>"
      ],
      "text/plain": [
       "   index  acc_now_delinq  annual_inc  avg_cur_bal  bc_open_to_buy   bc_util  \\\n",
       "0      1        -0.06916    0.537220    -0.675828       -0.130907 -0.896770   \n",
       "1      2        -0.06916   -0.456474     0.887956       -0.766508  1.421332   \n",
       "2      4        -0.06916   -0.803111    -0.850328       -0.667596  0.412831   \n",
       "3      5        -0.06916    0.491001     3.582835        0.125506 -0.269177   \n",
       "4      7        -0.06916   -0.063618     0.331795       -0.278204  0.372926   \n",
       "\n",
       "   delinq_2yrs  delinq_amnt       dti  funded_amnt  ...  \\\n",
       "0     1.090431    -0.038715 -1.311121    -0.505232  ...   \n",
       "1     1.090431    -0.038715 -0.160679     0.018340  ...   \n",
       "2    -0.429606    -0.038715 -0.679254    -1.011544  ...   \n",
       "3    -0.429606    -0.038715 -1.700052     1.105759  ...   \n",
       "4     1.090431    -0.038715  0.434981    -0.505232  ...   \n",
       "\n",
       "   verification_status_Source Verified  verification_status_Not Verified  \\\n",
       "0                                    0                                 1   \n",
       "1                                    1                                 0   \n",
       "2                                    0                                 1   \n",
       "3                                    1                                 0   \n",
       "4                                    1                                 0   \n",
       "\n",
       "   verification_status_Verified  hardship_flag_N  hardship_flag_Y  \\\n",
       "0                             0                1                0   \n",
       "1                             0                1                0   \n",
       "2                             0                1                0   \n",
       "3                             0                1                0   \n",
       "4                             0                1                0   \n",
       "\n",
       "   disbursement_method_Cash  disbursement_method_DirectPay  \\\n",
       "0                         1                              0   \n",
       "1                         1                              0   \n",
       "2                         1                              0   \n",
       "3                         1                              0   \n",
       "4                         1                              0   \n",
       "\n",
       "   debt_settlement_flag_N  debt_settlement_flag_Y  labels  \n",
       "0                       1                       0       1  \n",
       "1                       1                       0       1  \n",
       "2                       1                       0       1  \n",
       "3                       1                       0       1  \n",
       "4                       1                       0       1  \n",
       "\n",
       "[5 rows x 110 columns]"
      ]
     },
     "execution_count": 4,
     "metadata": {},
     "output_type": "execute_result"
    }
   ],
   "source": [
    "# Subset into two dataframes: charged_off(0) and fully_paid(1)\n",
    "\n",
    "charged_off = cl_df[cl_df.labels == 0]\n",
    "fully_paid = cl_df[cl_df.labels == 1]\n",
    "\n",
    "charged_off.reset_index(inplace=True)\n",
    "fully_paid.reset_index(inplace=True)\n",
    "\n",
    "fully_paid.head()"
   ]
  },
  {
   "cell_type": "code",
   "execution_count": 5,
   "metadata": {
    "scrolled": true
   },
   "outputs": [
    {
     "data": {
      "text/plain": [
       "0    0.184093\n",
       "1   -0.275992\n",
       "2   -0.966120\n",
       "3    1.012245\n",
       "4   -0.552043\n",
       "Name: loan_amnt, dtype: float64"
      ]
     },
     "execution_count": 5,
     "metadata": {},
     "output_type": "execute_result"
    }
   ],
   "source": [
    "# Filter df to get only the loan_amnt column\n",
    "\n",
    "loan_charged_off = charged_off.loan_amnt\n",
    "loan_fully_paid = fully_paid.loan_amnt\n",
    "\n",
    "loan_charged_off.head()"
   ]
  },
  {
   "cell_type": "code",
   "execution_count": 6,
   "metadata": {
    "scrolled": true
   },
   "outputs": [
    {
     "data": {
      "image/png": "[encoded data removed]",
      "text/plain": [
       "<Figure size 432x288 with 1 Axes>"
      ]
     },
     "metadata": {
      "needs_background": "light"
     },
     "output_type": "display_data"
    }
   ],
   "source": [
    "# Visualize the datasets using histogram \\ KDE plots\n",
    "\n",
    "ax = sns.distplot(loan_charged_off, bins=int(np.sqrt(len(charged_off))), \n",
    "                  kde=True, hist = False, label = 'charged off')\n",
    "ax = sns.distplot(loan_fully_paid, bins=int(np.sqrt(len(fully_paid))), \n",
    "                  kde=True, hist = False , label = 'fully paid')\n",
    "ax.set(xlabel='loan amount (scaled)', ylabel='probability', xlim = (0,5),\n",
    "       title = 'KDE - Loan Amounts')\n",
    "\n",
    "plt.show()"
   ]
  },
  {
   "cell_type": "code",
   "execution_count": 7,
   "metadata": {},
   "outputs": [
    {
     "name": "stdout",
     "output_type": "stream",
     "text": [
      "mean of loan amount for charged off accounts = 0.1302069983214234\n",
      "mean of loan amount for fully_paid accounts = -0.03186664773276771\n",
      "\n",
      "variance of loan amount for charged off accounts = 1.0239344377642705\n",
      "variance of loan amount for fully_paid accounts = 0.9900112342208185\n"
     ]
    }
   ],
   "source": [
    "# Compute mean and variance of the two samples\n",
    "loan_co_mean = np.mean(loan_charged_off)\n",
    "loan_fp_mean = np.mean(loan_fully_paid)\n",
    "\n",
    "loan_co_var = np.var(loan_charged_off)\n",
    "loan_fp_var = np.var(loan_fully_paid)\n",
    "\n",
    "print('mean of loan amount for charged off accounts =', loan_co_mean)\n",
    "print('mean of loan amount for fully_paid accounts =', loan_fp_mean)\n",
    "\n",
    "print('\\nvariance of loan amount for charged off accounts =', loan_co_var)\n",
    "print('variance of loan amount for fully_paid accounts =', loan_fp_var)\n"
   ]
  },
  {
   "cell_type": "code",
   "execution_count": 8,
   "metadata": {},
   "outputs": [
    {
     "name": "stdout",
     "output_type": "stream",
     "text": [
      "ttest_ind:            t = 73.5915  p = 0\n"
     ]
    }
   ],
   "source": [
    "# Use scipy.stats.ttest_ind\n",
    "t, p = scipy.stats.ttest_ind(loan_charged_off, loan_fully_paid, equal_var=False)\n",
    "print(\"ttest_ind:            t = %g  p = %g\" % (t, p))\n"
   ]
  },
  {
   "cell_type": "markdown",
   "metadata": {},
   "source": [
    "High t value indicates that the groups are different. This is reinforced by p=0 (ie, not by chance)."
   ]
  },
  {
   "cell_type": "markdown",
   "metadata": {},
   "source": [
    "### Bootstrap Hypothesis Testing"
   ]
  },
  {
   "cell_type": "code",
   "execution_count": 9,
   "metadata": {},
   "outputs": [],
   "source": [
    "# difference in observed mean for charged_off(0) and fully_paid(1): obs_diff_mean\n",
    "obs_diff_mean = np.mean(loan_charged_off) - np.mean(loan_fully_paid)"
   ]
  },
  {
   "cell_type": "code",
   "execution_count": 10,
   "metadata": {},
   "outputs": [],
   "source": [
    "np.random.seed(48)\n",
    "N_rep = 10000\n",
    "\n",
    "def draw_bs_reps(data, func, size=1):\n",
    "    # initialize array\n",
    "    bs_replicates = np.empty(size)\n",
    "    \n",
    "    # generate replicates\n",
    "    for i in range(size):\n",
    "        sample = np.random.choice(data, len(data))\n",
    "        bs_replicates[i] = func(sample)\n",
    "        \n",
    "    return bs_replicates\n"
   ]
  },
  {
   "cell_type": "code",
   "execution_count": 11,
   "metadata": {},
   "outputs": [
    {
     "name": "stdout",
     "output_type": "stream",
     "text": [
      "The 95% confidence interval for the difference between replicant charged off and fully paid accounts is:  [0.15773027 0.1664066 ]\n"
     ]
    }
   ],
   "source": [
    "# Calculate the 95% confidence interval for the difference between the means\n",
    "charged_mean_replicates = draw_bs_reps(loan_charged_off, np.mean, size=10000)\n",
    "paid_mean_replicates = draw_bs_reps(loan_fully_paid, np.mean, size=10000)\n",
    "\n",
    "bs_diff_mean = draw_bs_reps(loan_charged_off, np.mean, size=10000) - draw_bs_reps(loan_fully_paid, np.mean, size=10000)\n",
    "\n",
    "ci_bs_mean = np.percentile(bs_diff_mean, [2.5, 97.5])\n",
    "\n",
    "print(\"The 95% confidence interval for the difference between replicant charged off and fully paid accounts is: \", ci_bs_mean)"
   ]
  },
  {
   "cell_type": "markdown",
   "metadata": {},
   "source": [
    "#### Bootstrap Procedure Using Mean As Test Statistic"
   ]
  },
  {
   "cell_type": "code",
   "execution_count": 12,
   "metadata": {},
   "outputs": [
    {
     "name": "stdout",
     "output_type": "stream",
     "text": [
      "p-value = 0.0\n"
     ]
    }
   ],
   "source": [
    "# Bootstrap Procedure Using Mean As Test Statistic\n",
    "\n",
    "# Merge the two observed samples into one sample of (n + m) observations\n",
    "# Draw a bootstrap sample of (n + m) observations with replacement from the merged sample.\n",
    "reps = 10000\n",
    "\n",
    "# Concatenate the data sets: data\n",
    "data = np.concatenate((loan_charged_off, loan_fully_paid))\n",
    "charged_bs_rep_means = np.empty(reps)\n",
    "paid_bs_rep_means = np.empty(reps)\n",
    "        \n",
    "# generate replicates\n",
    "for i in range(reps):\n",
    "\n",
    "    # Sample with replacement the concatenated array: sampled_data\n",
    "    sampled_data = np.random.choice(data, len(data))\n",
    "\n",
    "    # Split the sampled array into two: sample_1, sample_2\n",
    "    charged_sample = sampled_data[:len(loan_charged_off)]\n",
    "    paid_sample = sampled_data[len(loan_charged_off):]\n",
    "\n",
    "    # Calculate means\n",
    "    charged_bs_rep_means[i] = np.mean(charged_sample)\n",
    "    paid_bs_rep_means[i] = np.mean(paid_sample)\n",
    "\n",
    "#########################    \n",
    "# Calculate difference in means: diff_bs_rep_means\n",
    "diff_bs_rep_means = charged_bs_rep_means - paid_bs_rep_means\n",
    "\n",
    "# Compute p-value: p\n",
    "p = np.sum(diff_bs_rep_means >= obs_diff_mean) / len(diff_bs_rep_means)\n",
    "\n",
    "# Print the result\n",
    "print('p-value =', p)\n"
   ]
  },
  {
   "cell_type": "markdown",
   "metadata": {},
   "source": [
    "\n",
    "For $\\alpha$ = 0.05,\n",
    "\n",
    "$H_0$ : There is no difference in loan amount sought between charged_off and fully_paid loans.\n",
    "\n",
    "\n",
    "$H_a$ : There is a difference in loan amount sought between charged_off and fully_paid loans.\n",
    "\n",
    "p = 0.0\n",
    "\n",
    "We reject the null hypothesis. There is a statistical difference in loan amount sought between charged_off and fully_paid loans.\n",
    "\n"
   ]
  },
  {
   "cell_type": "code",
   "execution_count": null,
   "metadata": {},
   "outputs": [],
   "source": []
  },
  {
   "cell_type": "markdown",
   "metadata": {},
   "source": [
    "annual_inc"
   ]
  },
  {
   "cell_type": "code",
   "execution_count": 13,
   "metadata": {},
   "outputs": [
    {
     "data": {
      "text/plain": [
       "0   -0.340928\n",
       "1   -0.722229\n",
       "2   -0.964875\n",
       "3   -0.114458\n",
       "4    0.236801\n",
       "Name: annual_inc, dtype: float64"
      ]
     },
     "execution_count": 13,
     "metadata": {},
     "output_type": "execute_result"
    }
   ],
   "source": [
    "# Filter df to get only the annual_inc column\n",
    "\n",
    "an_inc_charged_off = charged_off.annual_inc\n",
    "an_inc_fully_paid = fully_paid.annual_inc\n",
    "\n",
    "an_inc_charged_off.head()"
   ]
  },
  {
   "cell_type": "code",
   "execution_count": 14,
   "metadata": {},
   "outputs": [
    {
     "data": {
      "image/png": "[encoded data removed]",
      "text/plain": [
       "<Figure size 432x288 with 1 Axes>"
      ]
     },
     "metadata": {
      "needs_background": "light"
     },
     "output_type": "display_data"
    }
   ],
   "source": [
    "# Visualize the datasets using histogram \\ KDE plots\n",
    "\n",
    "ax = sns.distplot(an_inc_charged_off, bins=int(np.sqrt(len(charged_off))), \n",
    "                  kde=True, hist = False, label = 'charged off')\n",
    "ax = sns.distplot(an_inc_fully_paid, bins=int(np.sqrt(len(fully_paid))), \n",
    "                  kde=True, hist = False , label = 'fully paid')\n",
    "ax.set(xlabel='annual income (scaled)', ylabel='probability', xlim = (0,5),\n",
    "       title = 'KDE - Annual Income')\n",
    "\n",
    "plt.show()"
   ]
  },
  {
   "cell_type": "code",
   "execution_count": 15,
   "metadata": {},
   "outputs": [
    {
     "name": "stdout",
     "output_type": "stream",
     "text": [
      "mean of annual income for charged off accounts = -0.12468682384120139\n",
      "mean of annual income for fully_paid accounts = 0.03187923073861866\n",
      "\n",
      "variance of annual income for charged off accounts = 0.8436454101206241\n",
      "variance of annual income for fully_paid accounts = 1.0376205908584824\n"
     ]
    }
   ],
   "source": [
    "# Compute mean and variance of the two samples\n",
    "an_inc_co_mean = np.mean(an_inc_charged_off)\n",
    "an_inc_fp_mean = np.mean(an_inc_fully_paid)\n",
    "\n",
    "an_inc_co_var = np.var(an_inc_charged_off)\n",
    "an_inc_fp_var = np.var(an_inc_fully_paid)\n",
    "\n",
    "print('mean of annual income for charged off accounts =', an_inc_co_mean)\n",
    "print('mean of annual income for fully_paid accounts =', an_inc_fp_mean)\n",
    "\n",
    "print('\\nvariance of annual income for charged off accounts =', an_inc_co_var)\n",
    "print('variance of annual income for fully_paid accounts =', an_inc_fp_var)\n"
   ]
  },
  {
   "cell_type": "code",
   "execution_count": 16,
   "metadata": {},
   "outputs": [
    {
     "name": "stdout",
     "output_type": "stream",
     "text": [
      "ttest_ind:            t = -76.3158  p = 0\n"
     ]
    }
   ],
   "source": [
    "# Use scipy.stats.ttest_ind\n",
    "t, p = scipy.stats.ttest_ind(an_inc_charged_off, an_inc_fully_paid, equal_var=False)\n",
    "print(\"ttest_ind:            t = %g  p = %g\" % (t, p))\n"
   ]
  },
  {
   "cell_type": "markdown",
   "metadata": {},
   "source": [
    "Low t-value indicates there is no differences between groups; low p indicates that the data didn't occur by chance."
   ]
  },
  {
   "cell_type": "markdown",
   "metadata": {},
   "source": [
    "### Bootstrap Hypothesis Testing"
   ]
  },
  {
   "cell_type": "code",
   "execution_count": 17,
   "metadata": {},
   "outputs": [],
   "source": [
    "# difference in observed mean for charged_off(0) and fully_paid(1): obs_diff_mean\n",
    "obs_diff_mean = np.mean(an_inc_charged_off) - np.mean(an_inc_fully_paid)"
   ]
  },
  {
   "cell_type": "code",
   "execution_count": 18,
   "metadata": {},
   "outputs": [
    {
     "name": "stdout",
     "output_type": "stream",
     "text": [
      "The 95% confidence interval for the difference between replicant charged off and fully paid accounts is:  [-0.16054925 -0.15259419]\n"
     ]
    }
   ],
   "source": [
    "# Calculate the 95% confidence interval for the difference between the means\n",
    "charged_mean_replicates = draw_bs_reps(an_inc_charged_off, np.mean, size=10000)\n",
    "paid_mean_replicates = draw_bs_reps(an_inc_fully_paid, np.mean, size=10000)\n",
    "\n",
    "bs_diff_mean = draw_bs_reps(an_inc_charged_off, np.mean, size=10000) - draw_bs_reps(an_inc_fully_paid, np.mean, size=10000)\n",
    "\n",
    "ci_bs_mean = np.percentile(bs_diff_mean, [2.5, 97.5])\n",
    "\n",
    "print(\"The 95% confidence interval for the difference between replicant charged off and fully paid accounts is: \", ci_bs_mean)"
   ]
  },
  {
   "cell_type": "markdown",
   "metadata": {},
   "source": [
    "#### Bootstrap Procedure Using Mean As Test Statistic"
   ]
  },
  {
   "cell_type": "code",
   "execution_count": 19,
   "metadata": {},
   "outputs": [
    {
     "name": "stdout",
     "output_type": "stream",
     "text": [
      "p-value = 1.0\n"
     ]
    }
   ],
   "source": [
    "# Bootstrap Procedure Using Mean As Test Statistic\n",
    "\n",
    "# Merge the two observed samples into one sample of (n + m) observations\n",
    "# Draw a bootstrap sample of (n + m) observations with replacement from the merged sample.\n",
    "reps = 10000\n",
    "\n",
    "# Concatenate the data sets: data\n",
    "data = np.concatenate((an_inc_charged_off, an_inc_fully_paid))\n",
    "charged_bs_rep_means = np.empty(reps)\n",
    "paid_bs_rep_means = np.empty(reps)\n",
    "        \n",
    "# generate replicates\n",
    "for i in range(reps):\n",
    "\n",
    "    # Sample with replacement the concatenated array: sampled_data\n",
    "    sampled_data = np.random.choice(data, len(data))\n",
    "\n",
    "    # Split the sampled array into two: sample_1, sample_2\n",
    "    charged_sample = sampled_data[:len(an_inc_charged_off)]\n",
    "    paid_sample = sampled_data[len(an_inc_charged_off):]\n",
    "\n",
    "    # Calculate means\n",
    "    charged_bs_rep_means[i] = np.mean(charged_sample)\n",
    "    paid_bs_rep_means[i] = np.mean(paid_sample)\n",
    "\n",
    "#########################    \n",
    "# Calculate difference in means: diff_bs_rep_means\n",
    "diff_bs_rep_means = charged_bs_rep_means - paid_bs_rep_means\n",
    "\n",
    "# Compute p-value: p\n",
    "p = np.sum(diff_bs_rep_means >= obs_diff_mean) / len(diff_bs_rep_means)\n",
    "\n",
    "# Print the result\n",
    "print('p-value =', p)\n"
   ]
  },
  {
   "cell_type": "markdown",
   "metadata": {},
   "source": [
    "\n",
    "For $\\alpha$ = 0.05,\n",
    "\n",
    "$H_0$ : There is no difference in annual income between charged_off and fully_paid loans.\n",
    "\n",
    "\n",
    "$H_a$ : There is a difference in annual income between charged_off and fully_paid loans.\n",
    "\n",
    "p = 1.0\n",
    "\n",
    "We keep the null hypothesis. There is no statistical difference in the annual incomes between charged_off and fully_paid loans.\n",
    "\n"
   ]
  },
  {
   "cell_type": "code",
   "execution_count": null,
   "metadata": {},
   "outputs": [],
   "source": []
  }
 ],
 "metadata": {
  "kernelspec": {
   "display_name": "Python 3",
   "language": "python",
   "name": "python3"
  },
  "language_info": {
   "codemirror_mode": {
    "name": "ipython",
    "version": 3
   },
   "file_extension": ".py",
   "mimetype": "text/x-python",
   "name": "python",
   "nbconvert_exporter": "python",
   "pygments_lexer": "ipython3",
   "version": "3.7.7"
  }
 },
 "nbformat": 4,
 "nbformat_minor": 2
}
