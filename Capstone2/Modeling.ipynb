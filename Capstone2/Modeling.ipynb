{
 "cells": [
  {
   "cell_type": "code",
   "execution_count": 57,
   "metadata": {},
   "outputs": [],
   "source": [
    "import pandas as pd\n",
    "import numpy as np\n",
    "import matplotlib.pyplot as plt\n",
    "import pickle\n",
    "\n",
    "# import scikitplot as skplt\n",
    "\n",
    "from sklearn.ensemble import GradientBoostingClassifier\n",
    "from sklearn.linear_model import LogisticRegression\n",
    "from sklearn.naive_bayes import GaussianNB\n",
    "\n",
    "from sklearn.metrics import classification_report\n",
    "from sklearn.metrics import precision_recall_curve\n",
    "from sklearn.metrics import roc_auc_score\n",
    "from sklearn.metrics import roc_curve\n",
    "from sklearn.metrics import average_precision_score\n",
    "\n",
    "from sklearn.model_selection import GridSearchCV\n"
   ]
  },
  {
   "cell_type": "code",
   "execution_count": null,
   "metadata": {},
   "outputs": [],
   "source": []
  },
  {
   "cell_type": "markdown",
   "metadata": {},
   "source": [
    "### Load Testing Data"
   ]
  },
  {
   "cell_type": "code",
   "execution_count": 58,
   "metadata": {},
   "outputs": [],
   "source": [
    "df = pd.read_csv('Data/train.csv')\n",
    "df = df.sample(6000)  #60000\n",
    "X_train = df.drop('labels',axis='columns')\n",
    "y_train = df['labels'].values.ravel()"
   ]
  },
  {
   "cell_type": "code",
   "execution_count": 59,
   "metadata": {},
   "outputs": [
    {
     "name": "stdout",
     "output_type": "stream",
     "text": [
      "(6000, 108) (6000,)\n",
      "1    0.808667\n",
      "0    0.191333\n",
      "dtype: float64\n"
     ]
    }
   ],
   "source": [
    "print(X_train.shape,y_train.shape)\n",
    "print(pd.Series(y_train).value_counts(normalize=True))"
   ]
  },
  {
   "cell_type": "markdown",
   "metadata": {},
   "source": [
    "### Load Training Data"
   ]
  },
  {
   "cell_type": "code",
   "execution_count": 60,
   "metadata": {},
   "outputs": [],
   "source": [
    "df = pd.read_csv('Data/test.csv')\n",
    "df = df.sample(1000)  #10000\n",
    "X_test = df.drop('labels',axis='columns')\n",
    "y_test = df['labels'].values.ravel()"
   ]
  },
  {
   "cell_type": "code",
   "execution_count": 61,
   "metadata": {},
   "outputs": [
    {
     "name": "stdout",
     "output_type": "stream",
     "text": [
      "(1000, 108) (1000,)\n",
      "1    0.781\n",
      "0    0.219\n",
      "dtype: float64\n"
     ]
    }
   ],
   "source": [
    "print(X_test.shape,y_test.shape)\n",
    "print(pd.Series(y_test).value_counts(normalize=True))"
   ]
  },
  {
   "cell_type": "markdown",
   "metadata": {},
   "source": [
    "### Fit the models"
   ]
  },
  {
   "cell_type": "code",
   "execution_count": 32,
   "metadata": {},
   "outputs": [
    {
     "name": "stdout",
     "output_type": "stream",
     "text": [
      "GradientBoostingClassifier(criterion='friedman_mse', init=None,\n",
      "              learning_rate=0.1, loss='deviance', max_depth=15,\n",
      "              max_features=50, max_leaf_nodes=None,\n",
      "              min_impurity_decrease=0.0, min_impurity_split=None,\n",
      "              min_samples_leaf=1, min_samples_split=2,\n",
      "              min_weight_fraction_leaf=0.0, n_estimators=1000,\n",
      "              n_iter_no_change=None, presort='auto', random_state=0,\n",
      "              subsample=1.0, tol=0.0001, validation_fraction=0.1,\n",
      "              verbose=0, warm_start=False) - DONE\n",
      "LogisticRegression(C=5, class_weight={1: 0.3, 0: 0.7}, dual=False,\n",
      "          fit_intercept=True, intercept_scaling=1, max_iter=10000,\n",
      "          multi_class='warn', n_jobs=None, penalty='l2', random_state=666,\n",
      "          solver='sag', tol=0.0001, verbose=0, warm_start=False) - DONE\n",
      "GaussianNB(priors=None, var_smoothing=1e-09) - DONE\n"
     ]
    }
   ],
   "source": [
    "classifiers = [GradientBoostingClassifier(n_estimators=1000, learning_rate=0.1, \n",
    "                                          max_features=50, max_depth=15, random_state=0),\n",
    "               \n",
    "              LogisticRegression(random_state=666,solver='sag',max_iter=10000,C=5,\n",
    "                                 class_weight={1:0.3,0:0.7}),\n",
    "              \n",
    "              GaussianNB()]\n",
    "\n",
    "result_table = pd.DataFrame(columns=['classifiers', 'fpr','tpr','auc',\n",
    "                                    'precision','recall',\n",
    "                                    'precision score'])\n",
    "\n",
    "for cls in classifiers:\n",
    "    model = cls.fit(X_train, y_train)\n",
    "    \n",
    "    yproba = model.predict_proba(X_test)[::,1]\n",
    "    fpr, tpr, _ = roc_curve(y_test,  yproba)\n",
    "    auc = roc_auc_score(y_test, yproba)\n",
    "    precision,recall,_ = precision_recall_curve(y_test,yproba)\n",
    "    average_precision = average_precision_score(y_test,yproba)\n",
    "    \n",
    "    result_table = result_table.append({'classifiers':cls.__class__.__name__,\n",
    "                                        'fpr':fpr, \n",
    "                                        'tpr':tpr, \n",
    "                                        'auc':auc,\n",
    "                                        'precision':precision,\n",
    "                                        'recall':recall,\n",
    "                                        'precision score':average_precision}, \n",
    "                                       ignore_index=True)\n",
    "    \n",
    "    print('{} - DONE'.format(cls))\n",
    "\n",
    "result_table.set_index('classifiers', inplace=True)"
   ]
  },
  {
   "cell_type": "markdown",
   "metadata": {},
   "source": [
    "### Recal vs. Precision Curve"
   ]
  },
  {
   "cell_type": "code",
   "execution_count": 36,
   "metadata": {},
   "outputs": [
    {
     "data": {
      "image/png": "[encoded data removed]",
      "text/plain": [
       "<Figure size 576x432 with 1 Axes>"
      ]
     },
     "metadata": {
      "needs_background": "light"
     },
     "output_type": "display_data"
    }
   ],
   "source": [
    "fig = plt.figure(figsize=(8,6))\n",
    "\n",
    "for i in result_table.index:\n",
    "    plt.plot(result_table.loc[i]['recall'],result_table.loc[i]['precision'],\n",
    "            label=\"{}, Prec_score={:.4f}\".format(i, result_table.loc[i]['precision score']))\n",
    "    \n",
    "plt.xlabel(\"Recall\", fontsize=15)\n",
    "plt.ylabel(\"Precision\", fontsize=15)\n",
    "\n",
    "plt.title('Recall vs Precision Curve', fontweight='bold', fontsize=15)\n",
    "plt.legend(prop={'size':13}, loc='lower left')\n",
    "#plt.savefig('images/recall_precision.png')\n",
    "plt.show()\n",
    "\n"
   ]
  },
  {
   "cell_type": "code",
   "execution_count": null,
   "metadata": {},
   "outputs": [],
   "source": []
  },
  {
   "cell_type": "code",
   "execution_count": 38,
   "metadata": {},
   "outputs": [
    {
     "data": {
      "image/png": "[encoded data removed]",
      "text/plain": [
       "<Figure size 576x432 with 1 Axes>"
      ]
     },
     "metadata": {
      "needs_background": "light"
     },
     "output_type": "display_data"
    }
   ],
   "source": [
    "fig = plt.figure(figsize=(8,6))\n",
    "\n",
    "for i in result_table.index:\n",
    "    plt.plot(result_table.loc[i]['fpr'], \n",
    "             result_table.loc[i]['tpr'], \n",
    "             label=\"{}, AUC={:.4f}\".format(i, result_table.loc[i]['auc']))\n",
    "    \n",
    "plt.plot([0,1], [0,1], color='orange', linestyle='--')\n",
    "\n",
    "plt.xticks(np.arange(0.0, 1.1, step=0.1))\n",
    "plt.xlabel(\"False Positive Rate\", fontsize=15)\n",
    "\n",
    "plt.yticks(np.arange(0.0, 1.1, step=0.1))\n",
    "plt.ylabel(\"True Positive Rate\", fontsize=15)\n",
    "\n",
    "plt.title('ROC Curve Analysis', fontweight='bold', fontsize=15)\n",
    "plt.legend(prop={'size':13}, loc='lower right')\n",
    "#plt.savefig('images/ROC.png')\n",
    "plt.show()"
   ]
  },
  {
   "cell_type": "code",
   "execution_count": null,
   "metadata": {},
   "outputs": [],
   "source": []
  },
  {
   "cell_type": "code",
   "execution_count": 41,
   "metadata": {},
   "outputs": [
    {
     "name": "stdout",
     "output_type": "stream",
     "text": [
      "############## GradientBoostingClassifier ##############\n",
      "              precision    recall  f1-score   support\n",
      "\n",
      "           0       0.62      0.16      0.25       200\n",
      "           1       0.82      0.97      0.89       800\n",
      "\n",
      "   micro avg       0.81      0.81      0.81      1000\n",
      "   macro avg       0.72      0.57      0.57      1000\n",
      "weighted avg       0.78      0.81      0.76      1000\n",
      "\n",
      "############## LogisticRegression ##############\n",
      "              precision    recall  f1-score   support\n",
      "\n",
      "           0       0.43      0.43      0.43       200\n",
      "           1       0.86      0.86      0.86       800\n",
      "\n",
      "   micro avg       0.77      0.77      0.77      1000\n",
      "   macro avg       0.65      0.65      0.65      1000\n",
      "weighted avg       0.77      0.77      0.77      1000\n",
      "\n",
      "############## GaussianNB ##############\n",
      "              precision    recall  f1-score   support\n",
      "\n",
      "           0       0.48      0.31      0.38       200\n",
      "           1       0.84      0.92      0.88       800\n",
      "\n",
      "   micro avg       0.79      0.79      0.79      1000\n",
      "   macro avg       0.66      0.61      0.63      1000\n",
      "weighted avg       0.77      0.79      0.78      1000\n",
      "\n"
     ]
    }
   ],
   "source": [
    "for algo, name in zip(classifiers, result_table.index):\n",
    "    print(\"############## {} ##############\".format(name))\n",
    "    prediction = algo.predict(X_test)\n",
    "    print(classification_report(y_test, prediction))"
   ]
  },
  {
   "cell_type": "code",
   "execution_count": null,
   "metadata": {},
   "outputs": [],
   "source": []
  },
  {
   "cell_type": "code",
   "execution_count": 42,
   "metadata": {},
   "outputs": [
    {
     "name": "stdout",
     "output_type": "stream",
     "text": [
      "############## GradientBoostingClassifier ##############\n",
      "              precision    recall  f1-score   support\n",
      "\n",
      "           0       0.45      0.28      0.35       200\n",
      "           1       0.84      0.92      0.87       800\n",
      "\n",
      "   micro avg       0.79      0.79      0.79      1000\n",
      "   macro avg       0.64      0.60      0.61      1000\n",
      "weighted avg       0.76      0.79      0.77      1000\n",
      "\n",
      "############## LogisticRegression ##############\n",
      "              precision    recall  f1-score   support\n",
      "\n",
      "           0       0.21      0.95      0.35       200\n",
      "           1       0.91      0.11      0.20       800\n",
      "\n",
      "   micro avg       0.28      0.28      0.28      1000\n",
      "   macro avg       0.56      0.53      0.27      1000\n",
      "weighted avg       0.77      0.28      0.23      1000\n",
      "\n",
      "############## GaussianNB ##############\n",
      "              precision    recall  f1-score   support\n",
      "\n",
      "           0       0.48      0.41      0.44       200\n",
      "           1       0.86      0.89      0.87       800\n",
      "\n",
      "   micro avg       0.79      0.79      0.79      1000\n",
      "   macro avg       0.67      0.65      0.66      1000\n",
      "weighted avg       0.78      0.79      0.79      1000\n",
      "\n"
     ]
    }
   ],
   "source": [
    "threshold = 0.9\n",
    "\n",
    "for algo, name in zip(classifiers, result_table.index):\n",
    "    print(\"############## {} ##############\".format(name))\n",
    "    predict_proba = algo.predict_proba(X_test)[:,1] >= threshold\n",
    "    print(classification_report(y_test, predict_proba))"
   ]
  },
  {
   "cell_type": "code",
   "execution_count": null,
   "metadata": {},
   "outputs": [],
   "source": []
  },
  {
   "cell_type": "code",
   "execution_count": 48,
   "metadata": {},
   "outputs": [
    {
     "name": "stdout",
     "output_type": "stream",
     "text": [
      "Best roc_auc: 0.8287, with hyperparameter: {'C': 10}\n"
     ]
    }
   ],
   "source": [
    "logreg = LogisticRegression(solver='sag',max_iter=10000)\n",
    "param = {'C':[10,15,25,20]}\n",
    "clf = GridSearchCV(logreg,param,scoring='precision',refit=True,cv=10)\n",
    "clf.fit(X_train,y_train)\n",
    "print('Best roc_auc: {:.4}, with hyperparameter: {}'.format(clf.best_score_, clf.best_params_))"
   ]
  },
  {
   "cell_type": "code",
   "execution_count": null,
   "metadata": {},
   "outputs": [],
   "source": []
  },
  {
   "cell_type": "code",
   "execution_count": null,
   "metadata": {},
   "outputs": [],
   "source": []
  },
  {
   "cell_type": "code",
   "execution_count": 56,
   "metadata": {},
   "outputs": [],
   "source": [
    "\n",
    "filename = 'Models/logreg_model.sav'\n",
    "#the object you want to pickle and the file to which the object has to be saved - filename, write binary. \n",
    "outfile = open(filename,'wb')\n",
    "pickle.dump(logreg, outfile)) ##logisticRegr? ##not saving properly\n",
    "outfile.close()\n",
    "\n",
    "\n",
    "# #load the model from disk\n",
    "# loaded_model = pickle.load(open(filename, 'rb'))\n",
    "\n"
   ]
  },
  {
   "cell_type": "code",
   "execution_count": null,
   "metadata": {},
   "outputs": [],
   "source": []
  },
  {
   "cell_type": "code",
   "execution_count": null,
   "metadata": {},
   "outputs": [],
   "source": []
  },
  {
   "cell_type": "code",
   "execution_count": null,
   "metadata": {},
   "outputs": [],
   "source": []
  },
  {
   "cell_type": "code",
   "execution_count": null,
   "metadata": {},
   "outputs": [],
   "source": []
  },
  {
   "cell_type": "code",
   "execution_count": null,
   "metadata": {},
   "outputs": [],
   "source": []
  },
  {
   "cell_type": "code",
   "execution_count": null,
   "metadata": {},
   "outputs": [],
   "source": []
  },
  {
   "cell_type": "code",
   "execution_count": null,
   "metadata": {},
   "outputs": [],
   "source": []
  },
  {
   "cell_type": "code",
   "execution_count": null,
   "metadata": {},
   "outputs": [],
   "source": []
  },
  {
   "cell_type": "code",
   "execution_count": null,
   "metadata": {},
   "outputs": [],
   "source": []
  },
  {
   "cell_type": "code",
   "execution_count": null,
   "metadata": {},
   "outputs": [],
   "source": []
  },
  {
   "cell_type": "markdown",
   "metadata": {},
   "source": [
    "## Creating a predictive model - Linear Regression"
   ]
  },
  {
   "cell_type": "code",
   "execution_count": null,
   "metadata": {},
   "outputs": [],
   "source": [
    "# train\n",
    "linreg = LinearRegression()\n",
    "linreg.fit(X_train, y_train)"
   ]
  },
  {
   "cell_type": "code",
   "execution_count": null,
   "metadata": {},
   "outputs": [],
   "source": [
    "# predict\n",
    "y_pred = linreg.predict(X_test)"
   ]
  },
  {
   "cell_type": "code",
   "execution_count": null,
   "metadata": {},
   "outputs": [],
   "source": [
    "coef = pd.DataFrame(linreg.coef_, columns=['Co-efficient'])\n",
    "attribute = pd.DataFrame(X.columns, columns=['Attribute'])\n",
    "coef_df = pd.concat([attribute, coef], axis=1, join='inner')\n",
    "\n",
    "scores, pvalues = chi2(X, y)\n",
    "pvalues = pd.DataFrame(pvalues, columns=['pvalues'])\n",
    "coef_df = pd.concat([coef_df, pvalues], axis=1, join='inner')\n",
    "coef_df\n"
   ]
  },
  {
   "cell_type": "code",
   "execution_count": null,
   "metadata": {},
   "outputs": [],
   "source": [
    "print('R^2: ', linreg.score(X_train, y_train))\n",
    "print('R^2: ', linreg.score(X_test, y_test))\n",
    "print('Mean squared error:  ', mean_squared_error(y_test, y_pred))\n",
    "print('Root Mean squared error:  ', np.sqrt(mean_squared_error(y_test, y_pred)))"
   ]
  },
  {
   "cell_type": "code",
   "execution_count": null,
   "metadata": {},
   "outputs": [],
   "source": [
    "plt.scatter(y_test, y_pred)\n",
    "plt.plot([y_test.min(), y_test.max()], [y_test.min(), y_test.max()], 'k--', lw=4)\n",
    "plt.xlabel('Measured')\n",
    "plt.ylabel('Predicted')\n",
    "plt.show()"
   ]
  },
  {
   "cell_type": "code",
   "execution_count": null,
   "metadata": {},
   "outputs": [],
   "source": []
  },
  {
   "cell_type": "code",
   "execution_count": null,
   "metadata": {},
   "outputs": [],
   "source": []
  },
  {
   "cell_type": "code",
   "execution_count": null,
   "metadata": {},
   "outputs": [],
   "source": [
    "# import pandas as pd\n",
    "# import numpy as np\n",
    "# import matplotlib.pyplot as plt\n",
    "# import pickle\n",
    "\n",
    "# # import scikitplot as skplt\n",
    "\n",
    "# from sklearn.ensemble import GradientBoostingClassifier\n",
    "# from sklearn.linear_model import LogisticRegression\n",
    "# from sklearn.naive_bayes import GaussianNB\n",
    "\n",
    "# # from sklearn.metrics import accuracy_score\n",
    "# from sklearn.metrics import classification_report\n",
    "# # from sklearn.metrics import f1_score\n",
    "# from sklearn.metrics import precision_recall_curve\n",
    "# # from sklearn.metrics import confusion_matrix\n",
    "# # from sklearn.metrics import plot_roc_curve\n",
    "# from sklearn.metrics import roc_auc_score\n",
    "# # from sklearn.metrics import plot_confusion_matrix\n",
    "# from sklearn.metrics import roc_curve\n",
    "# # from sklearn.metrics import r2_score\n",
    "# # from sklearn.metrics import plot_precision_recall_curve\n",
    "# from sklearn.metrics import average_precision_score\n",
    "\n",
    "# from sklearn.model_selection import GridSearchCV\n",
    "# # from sklearn.model_selection import cross_val_score\n",
    "# # from sklearn.model_selection import learning_curve\n",
    "# # from sklearn.model_selection import StratifiedKFold\n",
    "# # from sklearn.model_selection import GridSearchCV\n",
    "# # from sklearn.model_selection import learning_curve\n",
    "\n",
    "# # from sklearn.ensemble import GradientBoostingClassifier, RandomForestClassifier\n",
    "\n",
    "# #  # library to plot ML metrics\n",
    "# # "
   ]
  }
 ],
 "metadata": {
  "kernelspec": {
   "display_name": "Python 3",
   "language": "python",
   "name": "python3"
  },
  "language_info": {
   "codemirror_mode": {
    "name": "ipython",
    "version": 3
   },
   "file_extension": ".py",
   "mimetype": "text/x-python",
   "name": "python",
   "nbconvert_exporter": "python",
   "pygments_lexer": "ipython3",
   "version": "3.7.3"
  }
 },
 "nbformat": 4,
 "nbformat_minor": 2
}
